{
 "cells": [
  {
   "cell_type": "markdown",
   "metadata": {},
   "source": [
    "# Project was peer-reviewed and validated by a Data Scientist. \n",
    "\n",
    "# Training data is available in the repository. \n",
    "\n",
    "### Business objective of the project is to predict Device Failure.\n",
    "# Project objective is to use Random Under-sampling to balance imbalanced data and compare findings of Random Under-sampling, Random Over-sampling, SMOTE (Synthetic Minority Over-sampling Technique), and ADASYN (Adaptive Synthetic Sampling Approach for Imbalanced Learning)."
   ]
  },
  {
   "cell_type": "markdown",
   "metadata": {},
   "source": [
    "## [Random Over-sampling](https://github.com/mohammadbutt/5th-Project-Predicting-Device-Failure/blob/master/Predicting%20Device%20Failure-Random%20Over%20Sampling.ipynb)\n",
    "## [SMOTE (Synthetic Minority Over-sampling Technique)](https://github.com/mohammadbutt/5th-Project-Predicting-Device-Failure/blob/master/Predicting%20Device%20Failure-SMOTE.ipynb)\n",
    "## [ADASYN (Adaptive Synthetic Sampling Approach for Imbalanced Learning)](https://github.com/mohammadbutt/5th-Project-Predicting-Device-Failure/blob/master/Predicting%20Device%20Failure-ADASYN.ipynb)"
   ]
  },
  {
   "cell_type": "code",
   "execution_count": 1,
   "metadata": {},
   "outputs": [],
   "source": [
    "import pandas as pd\n",
    "import numpy as np\n",
    "import matplotlib.pyplot as plt\n",
    "import seaborn as sns\n",
    "%matplotlib inline"
   ]
  },
  {
   "cell_type": "markdown",
   "metadata": {},
   "source": [
    "# 1. Training dataset is imported that contains the information that will be analyzed for the project."
   ]
  },
  {
   "cell_type": "code",
   "execution_count": 2,
   "metadata": {},
   "outputs": [],
   "source": [
    "data = pd.read_csv('failures.csv')"
   ]
  },
  {
   "cell_type": "code",
   "execution_count": 3,
   "metadata": {
    "scrolled": true
   },
   "outputs": [
    {
     "data": {
      "text/html": [
       "<div>\n",
       "<style scoped>\n",
       "    .dataframe tbody tr th:only-of-type {\n",
       "        vertical-align: middle;\n",
       "    }\n",
       "\n",
       "    .dataframe tbody tr th {\n",
       "        vertical-align: top;\n",
       "    }\n",
       "\n",
       "    .dataframe thead th {\n",
       "        text-align: right;\n",
       "    }\n",
       "</style>\n",
       "<table border=\"1\" class=\"dataframe\">\n",
       "  <thead>\n",
       "    <tr style=\"text-align: right;\">\n",
       "      <th></th>\n",
       "      <th>date</th>\n",
       "      <th>device</th>\n",
       "      <th>failure</th>\n",
       "      <th>attribute1</th>\n",
       "      <th>attribute2</th>\n",
       "      <th>attribute3</th>\n",
       "      <th>attribute4</th>\n",
       "      <th>attribute5</th>\n",
       "      <th>attribute6</th>\n",
       "      <th>attribute7</th>\n",
       "      <th>attribute8</th>\n",
       "      <th>attribute9</th>\n",
       "    </tr>\n",
       "  </thead>\n",
       "  <tbody>\n",
       "    <tr>\n",
       "      <th>0</th>\n",
       "      <td>2015-01-01</td>\n",
       "      <td>S1F01085</td>\n",
       "      <td>0</td>\n",
       "      <td>215630672</td>\n",
       "      <td>56</td>\n",
       "      <td>0</td>\n",
       "      <td>52</td>\n",
       "      <td>6</td>\n",
       "      <td>407438</td>\n",
       "      <td>0</td>\n",
       "      <td>0</td>\n",
       "      <td>7</td>\n",
       "    </tr>\n",
       "    <tr>\n",
       "      <th>1</th>\n",
       "      <td>2015-01-01</td>\n",
       "      <td>S1F0166B</td>\n",
       "      <td>0</td>\n",
       "      <td>61370680</td>\n",
       "      <td>0</td>\n",
       "      <td>3</td>\n",
       "      <td>0</td>\n",
       "      <td>6</td>\n",
       "      <td>403174</td>\n",
       "      <td>0</td>\n",
       "      <td>0</td>\n",
       "      <td>0</td>\n",
       "    </tr>\n",
       "    <tr>\n",
       "      <th>2</th>\n",
       "      <td>2015-01-01</td>\n",
       "      <td>S1F01E6Y</td>\n",
       "      <td>0</td>\n",
       "      <td>173295968</td>\n",
       "      <td>0</td>\n",
       "      <td>0</td>\n",
       "      <td>0</td>\n",
       "      <td>12</td>\n",
       "      <td>237394</td>\n",
       "      <td>0</td>\n",
       "      <td>0</td>\n",
       "      <td>0</td>\n",
       "    </tr>\n",
       "    <tr>\n",
       "      <th>3</th>\n",
       "      <td>2015-01-01</td>\n",
       "      <td>S1F01JE0</td>\n",
       "      <td>0</td>\n",
       "      <td>79694024</td>\n",
       "      <td>0</td>\n",
       "      <td>0</td>\n",
       "      <td>0</td>\n",
       "      <td>6</td>\n",
       "      <td>410186</td>\n",
       "      <td>0</td>\n",
       "      <td>0</td>\n",
       "      <td>0</td>\n",
       "    </tr>\n",
       "    <tr>\n",
       "      <th>4</th>\n",
       "      <td>2015-01-01</td>\n",
       "      <td>S1F01R2B</td>\n",
       "      <td>0</td>\n",
       "      <td>135970480</td>\n",
       "      <td>0</td>\n",
       "      <td>0</td>\n",
       "      <td>0</td>\n",
       "      <td>15</td>\n",
       "      <td>313173</td>\n",
       "      <td>0</td>\n",
       "      <td>0</td>\n",
       "      <td>3</td>\n",
       "    </tr>\n",
       "  </tbody>\n",
       "</table>\n",
       "</div>"
      ],
      "text/plain": [
       "         date    device  failure  attribute1  attribute2  attribute3  \\\n",
       "0  2015-01-01  S1F01085        0   215630672          56           0   \n",
       "1  2015-01-01  S1F0166B        0    61370680           0           3   \n",
       "2  2015-01-01  S1F01E6Y        0   173295968           0           0   \n",
       "3  2015-01-01  S1F01JE0        0    79694024           0           0   \n",
       "4  2015-01-01  S1F01R2B        0   135970480           0           0   \n",
       "\n",
       "   attribute4  attribute5  attribute6  attribute7  attribute8  attribute9  \n",
       "0          52           6      407438           0           0           7  \n",
       "1           0           6      403174           0           0           0  \n",
       "2           0          12      237394           0           0           0  \n",
       "3           0           6      410186           0           0           0  \n",
       "4           0          15      313173           0           0           3  "
      ]
     },
     "execution_count": 3,
     "metadata": {},
     "output_type": "execute_result"
    }
   ],
   "source": [
    "data.head()"
   ]
  },
  {
   "cell_type": "markdown",
   "metadata": {},
   "source": [
    "# 2. Checking missing values "
   ]
  },
  {
   "cell_type": "code",
   "execution_count": 4,
   "metadata": {},
   "outputs": [
    {
     "data": {
      "text/plain": [
       "date          0\n",
       "device        0\n",
       "failure       0\n",
       "attribute1    0\n",
       "attribute2    0\n",
       "attribute3    0\n",
       "attribute4    0\n",
       "attribute5    0\n",
       "attribute6    0\n",
       "attribute7    0\n",
       "attribute8    0\n",
       "attribute9    0\n",
       "dtype: int64"
      ]
     },
     "execution_count": 4,
     "metadata": {},
     "output_type": "execute_result"
    }
   ],
   "source": [
    "data.isnull().sum()\n",
    "# There are no null and missing values."
   ]
  },
  {
   "cell_type": "markdown",
   "metadata": {},
   "source": [
    "# There are no null or missing values."
   ]
  },
  {
   "cell_type": "code",
   "execution_count": 5,
   "metadata": {},
   "outputs": [
    {
     "data": {
      "text/plain": [
       "Series([], dtype: int64)"
      ]
     },
     "execution_count": 5,
     "metadata": {},
     "output_type": "execute_result"
    }
   ],
   "source": [
    "data.isnull().sum()[data.isnull().sum()>0]"
   ]
  },
  {
   "cell_type": "markdown",
   "metadata": {},
   "source": [
    "# 3. There can be duplicate columns and features in the data and it is helpful to remove any duplicate features. Tree-based algorithms are good and don’t compromise the performance when there are duplicate features. However, other algorithms can compromise the performance, so it is better to remove any duplicate features. Below are some methods that were used to tackle duplicate features."
   ]
  },
  {
   "cell_type": "markdown",
   "metadata": {},
   "source": [
    "# Looking at correlation is a good way to identify duplicate features. As it can be seen below that \"attribute7\" and \"attribut8\" have the same correlation of 0.119055 with \"failure\"."
   ]
  },
  {
   "cell_type": "code",
   "execution_count": 6,
   "metadata": {},
   "outputs": [
    {
     "data": {
      "text/html": [
       "<div>\n",
       "<style scoped>\n",
       "    .dataframe tbody tr th:only-of-type {\n",
       "        vertical-align: middle;\n",
       "    }\n",
       "\n",
       "    .dataframe tbody tr th {\n",
       "        vertical-align: top;\n",
       "    }\n",
       "\n",
       "    .dataframe thead th {\n",
       "        text-align: right;\n",
       "    }\n",
       "</style>\n",
       "<table border=\"1\" class=\"dataframe\">\n",
       "  <thead>\n",
       "    <tr style=\"text-align: right;\">\n",
       "      <th></th>\n",
       "      <th>failure</th>\n",
       "      <th>attribute1</th>\n",
       "      <th>attribute2</th>\n",
       "      <th>attribute3</th>\n",
       "      <th>attribute4</th>\n",
       "      <th>attribute5</th>\n",
       "      <th>attribute6</th>\n",
       "      <th>attribute7</th>\n",
       "      <th>attribute8</th>\n",
       "      <th>attribute9</th>\n",
       "    </tr>\n",
       "  </thead>\n",
       "  <tbody>\n",
       "    <tr>\n",
       "      <th>failure</th>\n",
       "      <td>1.000000</td>\n",
       "      <td>0.001984</td>\n",
       "      <td>0.052902</td>\n",
       "      <td>-0.000948</td>\n",
       "      <td>0.067398</td>\n",
       "      <td>0.002270</td>\n",
       "      <td>-0.000550</td>\n",
       "      <td>0.119055</td>\n",
       "      <td>0.119055</td>\n",
       "      <td>0.001622</td>\n",
       "    </tr>\n",
       "    <tr>\n",
       "      <th>attribute1</th>\n",
       "      <td>0.001984</td>\n",
       "      <td>1.000000</td>\n",
       "      <td>-0.004248</td>\n",
       "      <td>0.003702</td>\n",
       "      <td>0.001837</td>\n",
       "      <td>-0.003370</td>\n",
       "      <td>-0.001516</td>\n",
       "      <td>0.000151</td>\n",
       "      <td>0.000151</td>\n",
       "      <td>0.001122</td>\n",
       "    </tr>\n",
       "    <tr>\n",
       "      <th>attribute2</th>\n",
       "      <td>0.052902</td>\n",
       "      <td>-0.004248</td>\n",
       "      <td>1.000000</td>\n",
       "      <td>-0.002617</td>\n",
       "      <td>0.146593</td>\n",
       "      <td>-0.013999</td>\n",
       "      <td>-0.026350</td>\n",
       "      <td>0.141367</td>\n",
       "      <td>0.141367</td>\n",
       "      <td>-0.002736</td>\n",
       "    </tr>\n",
       "    <tr>\n",
       "      <th>attribute3</th>\n",
       "      <td>-0.000948</td>\n",
       "      <td>0.003702</td>\n",
       "      <td>-0.002617</td>\n",
       "      <td>1.000000</td>\n",
       "      <td>0.097452</td>\n",
       "      <td>-0.006696</td>\n",
       "      <td>0.009027</td>\n",
       "      <td>-0.001884</td>\n",
       "      <td>-0.001884</td>\n",
       "      <td>0.532366</td>\n",
       "    </tr>\n",
       "    <tr>\n",
       "      <th>attribute4</th>\n",
       "      <td>0.067398</td>\n",
       "      <td>0.001837</td>\n",
       "      <td>0.146593</td>\n",
       "      <td>0.097452</td>\n",
       "      <td>1.000000</td>\n",
       "      <td>-0.009773</td>\n",
       "      <td>0.024870</td>\n",
       "      <td>0.045631</td>\n",
       "      <td>0.045631</td>\n",
       "      <td>0.036069</td>\n",
       "    </tr>\n",
       "    <tr>\n",
       "      <th>attribute5</th>\n",
       "      <td>0.002270</td>\n",
       "      <td>-0.003370</td>\n",
       "      <td>-0.013999</td>\n",
       "      <td>-0.006696</td>\n",
       "      <td>-0.009773</td>\n",
       "      <td>1.000000</td>\n",
       "      <td>-0.017051</td>\n",
       "      <td>-0.009384</td>\n",
       "      <td>-0.009384</td>\n",
       "      <td>0.005949</td>\n",
       "    </tr>\n",
       "    <tr>\n",
       "      <th>attribute6</th>\n",
       "      <td>-0.000550</td>\n",
       "      <td>-0.001516</td>\n",
       "      <td>-0.026350</td>\n",
       "      <td>0.009027</td>\n",
       "      <td>0.024870</td>\n",
       "      <td>-0.017051</td>\n",
       "      <td>1.000000</td>\n",
       "      <td>-0.012207</td>\n",
       "      <td>-0.012207</td>\n",
       "      <td>0.021152</td>\n",
       "    </tr>\n",
       "    <tr>\n",
       "      <th>attribute7</th>\n",
       "      <td>0.119055</td>\n",
       "      <td>0.000151</td>\n",
       "      <td>0.141367</td>\n",
       "      <td>-0.001884</td>\n",
       "      <td>0.045631</td>\n",
       "      <td>-0.009384</td>\n",
       "      <td>-0.012207</td>\n",
       "      <td>1.000000</td>\n",
       "      <td>1.000000</td>\n",
       "      <td>0.006861</td>\n",
       "    </tr>\n",
       "    <tr>\n",
       "      <th>attribute8</th>\n",
       "      <td>0.119055</td>\n",
       "      <td>0.000151</td>\n",
       "      <td>0.141367</td>\n",
       "      <td>-0.001884</td>\n",
       "      <td>0.045631</td>\n",
       "      <td>-0.009384</td>\n",
       "      <td>-0.012207</td>\n",
       "      <td>1.000000</td>\n",
       "      <td>1.000000</td>\n",
       "      <td>0.006861</td>\n",
       "    </tr>\n",
       "    <tr>\n",
       "      <th>attribute9</th>\n",
       "      <td>0.001622</td>\n",
       "      <td>0.001122</td>\n",
       "      <td>-0.002736</td>\n",
       "      <td>0.532366</td>\n",
       "      <td>0.036069</td>\n",
       "      <td>0.005949</td>\n",
       "      <td>0.021152</td>\n",
       "      <td>0.006861</td>\n",
       "      <td>0.006861</td>\n",
       "      <td>1.000000</td>\n",
       "    </tr>\n",
       "  </tbody>\n",
       "</table>\n",
       "</div>"
      ],
      "text/plain": [
       "             failure  attribute1  attribute2  attribute3  attribute4  \\\n",
       "failure     1.000000    0.001984    0.052902   -0.000948    0.067398   \n",
       "attribute1  0.001984    1.000000   -0.004248    0.003702    0.001837   \n",
       "attribute2  0.052902   -0.004248    1.000000   -0.002617    0.146593   \n",
       "attribute3 -0.000948    0.003702   -0.002617    1.000000    0.097452   \n",
       "attribute4  0.067398    0.001837    0.146593    0.097452    1.000000   \n",
       "attribute5  0.002270   -0.003370   -0.013999   -0.006696   -0.009773   \n",
       "attribute6 -0.000550   -0.001516   -0.026350    0.009027    0.024870   \n",
       "attribute7  0.119055    0.000151    0.141367   -0.001884    0.045631   \n",
       "attribute8  0.119055    0.000151    0.141367   -0.001884    0.045631   \n",
       "attribute9  0.001622    0.001122   -0.002736    0.532366    0.036069   \n",
       "\n",
       "            attribute5  attribute6  attribute7  attribute8  attribute9  \n",
       "failure       0.002270   -0.000550    0.119055    0.119055    0.001622  \n",
       "attribute1   -0.003370   -0.001516    0.000151    0.000151    0.001122  \n",
       "attribute2   -0.013999   -0.026350    0.141367    0.141367   -0.002736  \n",
       "attribute3   -0.006696    0.009027   -0.001884   -0.001884    0.532366  \n",
       "attribute4   -0.009773    0.024870    0.045631    0.045631    0.036069  \n",
       "attribute5    1.000000   -0.017051   -0.009384   -0.009384    0.005949  \n",
       "attribute6   -0.017051    1.000000   -0.012207   -0.012207    0.021152  \n",
       "attribute7   -0.009384   -0.012207    1.000000    1.000000    0.006861  \n",
       "attribute8   -0.009384   -0.012207    1.000000    1.000000    0.006861  \n",
       "attribute9    0.005949    0.021152    0.006861    0.006861    1.000000  "
      ]
     },
     "execution_count": 6,
     "metadata": {},
     "output_type": "execute_result"
    }
   ],
   "source": [
    "data.corr()"
   ]
  },
  {
   "cell_type": "markdown",
   "metadata": {},
   "source": [
    "# Once correlation between multiple features has been found. These features can be further evaluated by looking at the below describe function, to review \"attribute7\" and \"attribute8\" and look at their count, mean, minimum, maximum and standard deviation scores. This provides further support for the correlation that was found earlier that these two features truly are duplicate. "
   ]
  },
  {
   "cell_type": "code",
   "execution_count": 7,
   "metadata": {},
   "outputs": [
    {
     "data": {
      "text/html": [
       "<div>\n",
       "<style scoped>\n",
       "    .dataframe tbody tr th:only-of-type {\n",
       "        vertical-align: middle;\n",
       "    }\n",
       "\n",
       "    .dataframe tbody tr th {\n",
       "        vertical-align: top;\n",
       "    }\n",
       "\n",
       "    .dataframe thead th {\n",
       "        text-align: right;\n",
       "    }\n",
       "</style>\n",
       "<table border=\"1\" class=\"dataframe\">\n",
       "  <thead>\n",
       "    <tr style=\"text-align: right;\">\n",
       "      <th></th>\n",
       "      <th>failure</th>\n",
       "      <th>attribute1</th>\n",
       "      <th>attribute2</th>\n",
       "      <th>attribute3</th>\n",
       "      <th>attribute4</th>\n",
       "      <th>attribute5</th>\n",
       "      <th>attribute6</th>\n",
       "      <th>attribute7</th>\n",
       "      <th>attribute8</th>\n",
       "      <th>attribute9</th>\n",
       "    </tr>\n",
       "  </thead>\n",
       "  <tbody>\n",
       "    <tr>\n",
       "      <th>count</th>\n",
       "      <td>124494.000000</td>\n",
       "      <td>1.244940e+05</td>\n",
       "      <td>124494.000000</td>\n",
       "      <td>124494.000000</td>\n",
       "      <td>124494.000000</td>\n",
       "      <td>124494.000000</td>\n",
       "      <td>124494.000000</td>\n",
       "      <td>124494.000000</td>\n",
       "      <td>124494.000000</td>\n",
       "      <td>124494.000000</td>\n",
       "    </tr>\n",
       "    <tr>\n",
       "      <th>mean</th>\n",
       "      <td>0.000851</td>\n",
       "      <td>1.223868e+08</td>\n",
       "      <td>159.484762</td>\n",
       "      <td>9.940455</td>\n",
       "      <td>1.741120</td>\n",
       "      <td>14.222693</td>\n",
       "      <td>260172.858025</td>\n",
       "      <td>0.292528</td>\n",
       "      <td>0.292528</td>\n",
       "      <td>12.451524</td>\n",
       "    </tr>\n",
       "    <tr>\n",
       "      <th>std</th>\n",
       "      <td>0.029167</td>\n",
       "      <td>7.045960e+07</td>\n",
       "      <td>2179.657730</td>\n",
       "      <td>185.747321</td>\n",
       "      <td>22.908507</td>\n",
       "      <td>15.943021</td>\n",
       "      <td>99151.009852</td>\n",
       "      <td>7.436924</td>\n",
       "      <td>7.436924</td>\n",
       "      <td>191.425623</td>\n",
       "    </tr>\n",
       "    <tr>\n",
       "      <th>min</th>\n",
       "      <td>0.000000</td>\n",
       "      <td>0.000000e+00</td>\n",
       "      <td>0.000000</td>\n",
       "      <td>0.000000</td>\n",
       "      <td>0.000000</td>\n",
       "      <td>1.000000</td>\n",
       "      <td>8.000000</td>\n",
       "      <td>0.000000</td>\n",
       "      <td>0.000000</td>\n",
       "      <td>0.000000</td>\n",
       "    </tr>\n",
       "    <tr>\n",
       "      <th>25%</th>\n",
       "      <td>0.000000</td>\n",
       "      <td>6.127675e+07</td>\n",
       "      <td>0.000000</td>\n",
       "      <td>0.000000</td>\n",
       "      <td>0.000000</td>\n",
       "      <td>8.000000</td>\n",
       "      <td>221452.000000</td>\n",
       "      <td>0.000000</td>\n",
       "      <td>0.000000</td>\n",
       "      <td>0.000000</td>\n",
       "    </tr>\n",
       "    <tr>\n",
       "      <th>50%</th>\n",
       "      <td>0.000000</td>\n",
       "      <td>1.227957e+08</td>\n",
       "      <td>0.000000</td>\n",
       "      <td>0.000000</td>\n",
       "      <td>0.000000</td>\n",
       "      <td>10.000000</td>\n",
       "      <td>249799.500000</td>\n",
       "      <td>0.000000</td>\n",
       "      <td>0.000000</td>\n",
       "      <td>0.000000</td>\n",
       "    </tr>\n",
       "    <tr>\n",
       "      <th>75%</th>\n",
       "      <td>0.000000</td>\n",
       "      <td>1.833084e+08</td>\n",
       "      <td>0.000000</td>\n",
       "      <td>0.000000</td>\n",
       "      <td>0.000000</td>\n",
       "      <td>12.000000</td>\n",
       "      <td>310266.000000</td>\n",
       "      <td>0.000000</td>\n",
       "      <td>0.000000</td>\n",
       "      <td>0.000000</td>\n",
       "    </tr>\n",
       "    <tr>\n",
       "      <th>max</th>\n",
       "      <td>1.000000</td>\n",
       "      <td>2.441405e+08</td>\n",
       "      <td>64968.000000</td>\n",
       "      <td>24929.000000</td>\n",
       "      <td>1666.000000</td>\n",
       "      <td>98.000000</td>\n",
       "      <td>689161.000000</td>\n",
       "      <td>832.000000</td>\n",
       "      <td>832.000000</td>\n",
       "      <td>18701.000000</td>\n",
       "    </tr>\n",
       "  </tbody>\n",
       "</table>\n",
       "</div>"
      ],
      "text/plain": [
       "             failure    attribute1     attribute2     attribute3  \\\n",
       "count  124494.000000  1.244940e+05  124494.000000  124494.000000   \n",
       "mean        0.000851  1.223868e+08     159.484762       9.940455   \n",
       "std         0.029167  7.045960e+07    2179.657730     185.747321   \n",
       "min         0.000000  0.000000e+00       0.000000       0.000000   \n",
       "25%         0.000000  6.127675e+07       0.000000       0.000000   \n",
       "50%         0.000000  1.227957e+08       0.000000       0.000000   \n",
       "75%         0.000000  1.833084e+08       0.000000       0.000000   \n",
       "max         1.000000  2.441405e+08   64968.000000   24929.000000   \n",
       "\n",
       "          attribute4     attribute5     attribute6     attribute7  \\\n",
       "count  124494.000000  124494.000000  124494.000000  124494.000000   \n",
       "mean        1.741120      14.222693  260172.858025       0.292528   \n",
       "std        22.908507      15.943021   99151.009852       7.436924   \n",
       "min         0.000000       1.000000       8.000000       0.000000   \n",
       "25%         0.000000       8.000000  221452.000000       0.000000   \n",
       "50%         0.000000      10.000000  249799.500000       0.000000   \n",
       "75%         0.000000      12.000000  310266.000000       0.000000   \n",
       "max      1666.000000      98.000000  689161.000000     832.000000   \n",
       "\n",
       "          attribute8     attribute9  \n",
       "count  124494.000000  124494.000000  \n",
       "mean        0.292528      12.451524  \n",
       "std         7.436924     191.425623  \n",
       "min         0.000000       0.000000  \n",
       "25%         0.000000       0.000000  \n",
       "50%         0.000000       0.000000  \n",
       "75%         0.000000       0.000000  \n",
       "max       832.000000   18701.000000  "
      ]
     },
     "execution_count": 7,
     "metadata": {},
     "output_type": "execute_result"
    }
   ],
   "source": [
    "data.describe()"
   ]
  },
  {
   "cell_type": "markdown",
   "metadata": {},
   "source": [
    "# Finding duplicate features in a dataset that has hundreds or thousands of features can be challenging. Same correlation function can be used, but the correlation in the example is sorted in a descending order so features (attribute7 and attribute8) that have the same correlation, appear right next to each other."
   ]
  },
  {
   "cell_type": "code",
   "execution_count": 8,
   "metadata": {},
   "outputs": [
    {
     "data": {
      "text/plain": [
       "failure       1.000000\n",
       "attribute8    0.119055\n",
       "attribute7    0.119055\n",
       "attribute4    0.067398\n",
       "attribute2    0.052902\n",
       "attribute5    0.002270\n",
       "attribute1    0.001984\n",
       "attribute9    0.001622\n",
       "attribute6   -0.000550\n",
       "attribute3   -0.000948\n",
       "Name: failure, dtype: float64"
      ]
     },
     "execution_count": 8,
     "metadata": {},
     "output_type": "execute_result"
    }
   ],
   "source": [
    "data.corr().failure.sort_values(ascending = False)"
   ]
  },
  {
   "cell_type": "markdown",
   "metadata": {},
   "source": [
    "# Another way to find duplicate values would be to look at the heatmap. In the heatmap below, both attribute7 and attribut8 have the same correlation of 1 with each other and their correlation with other features is also the same."
   ]
  },
  {
   "cell_type": "code",
   "execution_count": 9,
   "metadata": {},
   "outputs": [
    {
     "data": {
      "text/plain": [
       "<matplotlib.axes._subplots.AxesSubplot at 0x1f0189734a8>"
      ]
     },
     "execution_count": 9,
     "metadata": {},
     "output_type": "execute_result"
    },
    {
     "data": {
      "image/png": "[encoded data removed]",
      "text/plain": [
       "<matplotlib.figure.Figure at 0x1f018973400>"
      ]
     },
     "metadata": {},
     "output_type": "display_data"
    }
   ],
   "source": [
    "plt.figure(figsize=(11,11))\n",
    "plt.title(\"Duplicate values\", size = 14)\n",
    "sns.heatmap(data.corr(), annot=True, linewidths = .01, square = True, cmap = \"YlGnBu\")\n",
    "#sns.heatmap(data.corr(), annot=True, fmt = \".1f\", linewidths = .5, square = True, cmap = \"Blues_r\")"
   ]
  },
  {
   "cell_type": "markdown",
   "metadata": {},
   "source": [
    "# Attribute8 is removed from the dataset since it is the duplicate of attibute7."
   ]
  },
  {
   "cell_type": "code",
   "execution_count": 10,
   "metadata": {},
   "outputs": [
    {
     "data": {
      "text/html": [
       "<div>\n",
       "<style scoped>\n",
       "    .dataframe tbody tr th:only-of-type {\n",
       "        vertical-align: middle;\n",
       "    }\n",
       "\n",
       "    .dataframe tbody tr th {\n",
       "        vertical-align: top;\n",
       "    }\n",
       "\n",
       "    .dataframe thead th {\n",
       "        text-align: right;\n",
       "    }\n",
       "</style>\n",
       "<table border=\"1\" class=\"dataframe\">\n",
       "  <thead>\n",
       "    <tr style=\"text-align: right;\">\n",
       "      <th></th>\n",
       "      <th>date</th>\n",
       "      <th>device</th>\n",
       "      <th>failure</th>\n",
       "      <th>attribute1</th>\n",
       "      <th>attribute2</th>\n",
       "      <th>attribute3</th>\n",
       "      <th>attribute4</th>\n",
       "      <th>attribute5</th>\n",
       "      <th>attribute6</th>\n",
       "      <th>attribute7</th>\n",
       "      <th>attribute9</th>\n",
       "    </tr>\n",
       "  </thead>\n",
       "  <tbody>\n",
       "    <tr>\n",
       "      <th>0</th>\n",
       "      <td>2015-01-01</td>\n",
       "      <td>S1F01085</td>\n",
       "      <td>0</td>\n",
       "      <td>215630672</td>\n",
       "      <td>56</td>\n",
       "      <td>0</td>\n",
       "      <td>52</td>\n",
       "      <td>6</td>\n",
       "      <td>407438</td>\n",
       "      <td>0</td>\n",
       "      <td>7</td>\n",
       "    </tr>\n",
       "    <tr>\n",
       "      <th>1</th>\n",
       "      <td>2015-01-01</td>\n",
       "      <td>S1F0166B</td>\n",
       "      <td>0</td>\n",
       "      <td>61370680</td>\n",
       "      <td>0</td>\n",
       "      <td>3</td>\n",
       "      <td>0</td>\n",
       "      <td>6</td>\n",
       "      <td>403174</td>\n",
       "      <td>0</td>\n",
       "      <td>0</td>\n",
       "    </tr>\n",
       "    <tr>\n",
       "      <th>2</th>\n",
       "      <td>2015-01-01</td>\n",
       "      <td>S1F01E6Y</td>\n",
       "      <td>0</td>\n",
       "      <td>173295968</td>\n",
       "      <td>0</td>\n",
       "      <td>0</td>\n",
       "      <td>0</td>\n",
       "      <td>12</td>\n",
       "      <td>237394</td>\n",
       "      <td>0</td>\n",
       "      <td>0</td>\n",
       "    </tr>\n",
       "    <tr>\n",
       "      <th>3</th>\n",
       "      <td>2015-01-01</td>\n",
       "      <td>S1F01JE0</td>\n",
       "      <td>0</td>\n",
       "      <td>79694024</td>\n",
       "      <td>0</td>\n",
       "      <td>0</td>\n",
       "      <td>0</td>\n",
       "      <td>6</td>\n",
       "      <td>410186</td>\n",
       "      <td>0</td>\n",
       "      <td>0</td>\n",
       "    </tr>\n",
       "    <tr>\n",
       "      <th>4</th>\n",
       "      <td>2015-01-01</td>\n",
       "      <td>S1F01R2B</td>\n",
       "      <td>0</td>\n",
       "      <td>135970480</td>\n",
       "      <td>0</td>\n",
       "      <td>0</td>\n",
       "      <td>0</td>\n",
       "      <td>15</td>\n",
       "      <td>313173</td>\n",
       "      <td>0</td>\n",
       "      <td>3</td>\n",
       "    </tr>\n",
       "  </tbody>\n",
       "</table>\n",
       "</div>"
      ],
      "text/plain": [
       "         date    device  failure  attribute1  attribute2  attribute3  \\\n",
       "0  2015-01-01  S1F01085        0   215630672          56           0   \n",
       "1  2015-01-01  S1F0166B        0    61370680           0           3   \n",
       "2  2015-01-01  S1F01E6Y        0   173295968           0           0   \n",
       "3  2015-01-01  S1F01JE0        0    79694024           0           0   \n",
       "4  2015-01-01  S1F01R2B        0   135970480           0           0   \n",
       "\n",
       "   attribute4  attribute5  attribute6  attribute7  attribute9  \n",
       "0          52           6      407438           0           7  \n",
       "1           0           6      403174           0           0  \n",
       "2           0          12      237394           0           0  \n",
       "3           0           6      410186           0           0  \n",
       "4           0          15      313173           0           3  "
      ]
     },
     "execution_count": 10,
     "metadata": {},
     "output_type": "execute_result"
    }
   ],
   "source": [
    "del data['attribute8']\n",
    "data.head()"
   ]
  },
  {
   "cell_type": "markdown",
   "metadata": {},
   "source": [
    "# 4. Same device is used multiple times. A DataFrame is created which has the count of all the devices, so this information can be used later when the data in consolidated"
   ]
  },
  {
   "cell_type": "code",
   "execution_count": 11,
   "metadata": {
    "scrolled": true
   },
   "outputs": [
    {
     "data": {
      "text/html": [
       "<div>\n",
       "<style scoped>\n",
       "    .dataframe tbody tr th:only-of-type {\n",
       "        vertical-align: middle;\n",
       "    }\n",
       "\n",
       "    .dataframe tbody tr th {\n",
       "        vertical-align: top;\n",
       "    }\n",
       "\n",
       "    .dataframe thead th {\n",
       "        text-align: right;\n",
       "    }\n",
       "</style>\n",
       "<table border=\"1\" class=\"dataframe\">\n",
       "  <thead>\n",
       "    <tr style=\"text-align: right;\">\n",
       "      <th></th>\n",
       "      <th>date</th>\n",
       "      <th>device</th>\n",
       "      <th>failure</th>\n",
       "      <th>attribute1</th>\n",
       "      <th>attribute2</th>\n",
       "      <th>attribute3</th>\n",
       "      <th>attribute4</th>\n",
       "      <th>attribute5</th>\n",
       "      <th>attribute6</th>\n",
       "      <th>attribute7</th>\n",
       "      <th>attribute9</th>\n",
       "    </tr>\n",
       "  </thead>\n",
       "  <tbody>\n",
       "    <tr>\n",
       "      <th>1076</th>\n",
       "      <td>2015-01-01</td>\n",
       "      <td>Z1F0QLC1</td>\n",
       "      <td>0</td>\n",
       "      <td>71350416</td>\n",
       "      <td>0</td>\n",
       "      <td>0</td>\n",
       "      <td>0</td>\n",
       "      <td>7</td>\n",
       "      <td>198020</td>\n",
       "      <td>0</td>\n",
       "      <td>0</td>\n",
       "    </tr>\n",
       "    <tr>\n",
       "      <th>2239</th>\n",
       "      <td>2015-01-02</td>\n",
       "      <td>Z1F0QLC1</td>\n",
       "      <td>0</td>\n",
       "      <td>90497888</td>\n",
       "      <td>0</td>\n",
       "      <td>0</td>\n",
       "      <td>0</td>\n",
       "      <td>7</td>\n",
       "      <td>199378</td>\n",
       "      <td>0</td>\n",
       "      <td>0</td>\n",
       "    </tr>\n",
       "    <tr>\n",
       "      <th>3402</th>\n",
       "      <td>2015-01-03</td>\n",
       "      <td>Z1F0QLC1</td>\n",
       "      <td>0</td>\n",
       "      <td>109075808</td>\n",
       "      <td>0</td>\n",
       "      <td>0</td>\n",
       "      <td>0</td>\n",
       "      <td>7</td>\n",
       "      <td>200777</td>\n",
       "      <td>0</td>\n",
       "      <td>0</td>\n",
       "    </tr>\n",
       "    <tr>\n",
       "      <th>4564</th>\n",
       "      <td>2015-01-04</td>\n",
       "      <td>Z1F0QLC1</td>\n",
       "      <td>0</td>\n",
       "      <td>138358848</td>\n",
       "      <td>0</td>\n",
       "      <td>0</td>\n",
       "      <td>0</td>\n",
       "      <td>7</td>\n",
       "      <td>202115</td>\n",
       "      <td>0</td>\n",
       "      <td>0</td>\n",
       "    </tr>\n",
       "    <tr>\n",
       "      <th>5725</th>\n",
       "      <td>2015-01-05</td>\n",
       "      <td>Z1F0QLC1</td>\n",
       "      <td>0</td>\n",
       "      <td>163297864</td>\n",
       "      <td>0</td>\n",
       "      <td>0</td>\n",
       "      <td>0</td>\n",
       "      <td>7</td>\n",
       "      <td>203438</td>\n",
       "      <td>0</td>\n",
       "      <td>0</td>\n",
       "    </tr>\n",
       "  </tbody>\n",
       "</table>\n",
       "</div>"
      ],
      "text/plain": [
       "            date    device  failure  attribute1  attribute2  attribute3  \\\n",
       "1076  2015-01-01  Z1F0QLC1        0    71350416           0           0   \n",
       "2239  2015-01-02  Z1F0QLC1        0    90497888           0           0   \n",
       "3402  2015-01-03  Z1F0QLC1        0   109075808           0           0   \n",
       "4564  2015-01-04  Z1F0QLC1        0   138358848           0           0   \n",
       "5725  2015-01-05  Z1F0QLC1        0   163297864           0           0   \n",
       "\n",
       "      attribute4  attribute5  attribute6  attribute7  attribute9  \n",
       "1076           0           7      198020           0           0  \n",
       "2239           0           7      199378           0           0  \n",
       "3402           0           7      200777           0           0  \n",
       "4564           0           7      202115           0           0  \n",
       "5725           0           7      203438           0           0  "
      ]
     },
     "execution_count": 11,
     "metadata": {},
     "output_type": "execute_result"
    }
   ],
   "source": [
    "data[data['device'] == 'Z1F0QLC1'].head()"
   ]
  },
  {
   "cell_type": "markdown",
   "metadata": {},
   "source": [
    "# A new DataFrame is created that has device count and then the column is renamed"
   ]
  },
  {
   "cell_type": "code",
   "execution_count": 12,
   "metadata": {
    "scrolled": true
   },
   "outputs": [
    {
     "data": {
      "text/html": [
       "<div>\n",
       "<style scoped>\n",
       "    .dataframe tbody tr th:only-of-type {\n",
       "        vertical-align: middle;\n",
       "    }\n",
       "\n",
       "    .dataframe tbody tr th {\n",
       "        vertical-align: top;\n",
       "    }\n",
       "\n",
       "    .dataframe thead th {\n",
       "        text-align: right;\n",
       "    }\n",
       "</style>\n",
       "<table border=\"1\" class=\"dataframe\">\n",
       "  <thead>\n",
       "    <tr style=\"text-align: right;\">\n",
       "      <th></th>\n",
       "      <th>device</th>\n",
       "    </tr>\n",
       "    <tr>\n",
       "      <th>device</th>\n",
       "      <th></th>\n",
       "    </tr>\n",
       "  </thead>\n",
       "  <tbody>\n",
       "    <tr>\n",
       "      <th>S1F01085</th>\n",
       "      <td>6</td>\n",
       "    </tr>\n",
       "    <tr>\n",
       "      <th>S1F013BB</th>\n",
       "      <td>6</td>\n",
       "    </tr>\n",
       "    <tr>\n",
       "      <th>S1F0166B</th>\n",
       "      <td>6</td>\n",
       "    </tr>\n",
       "    <tr>\n",
       "      <th>S1F01E6Y</th>\n",
       "      <td>48</td>\n",
       "    </tr>\n",
       "    <tr>\n",
       "      <th>S1F01JE0</th>\n",
       "      <td>6</td>\n",
       "    </tr>\n",
       "  </tbody>\n",
       "</table>\n",
       "</div>"
      ],
      "text/plain": [
       "          device\n",
       "device          \n",
       "S1F01085       6\n",
       "S1F013BB       6\n",
       "S1F0166B       6\n",
       "S1F01E6Y      48\n",
       "S1F01JE0       6"
      ]
     },
     "execution_count": 12,
     "metadata": {},
     "output_type": "execute_result"
    }
   ],
   "source": [
    "data_device_count = pd.DataFrame(data.groupby('device')['device'].count())\n",
    "data_device_count.head()"
   ]
  },
  {
   "cell_type": "code",
   "execution_count": 13,
   "metadata": {
    "scrolled": true
   },
   "outputs": [
    {
     "data": {
      "text/html": [
       "<div>\n",
       "<style scoped>\n",
       "    .dataframe tbody tr th:only-of-type {\n",
       "        vertical-align: middle;\n",
       "    }\n",
       "\n",
       "    .dataframe tbody tr th {\n",
       "        vertical-align: top;\n",
       "    }\n",
       "\n",
       "    .dataframe thead th {\n",
       "        text-align: right;\n",
       "    }\n",
       "</style>\n",
       "<table border=\"1\" class=\"dataframe\">\n",
       "  <thead>\n",
       "    <tr style=\"text-align: right;\">\n",
       "      <th></th>\n",
       "      <th>device_count</th>\n",
       "    </tr>\n",
       "    <tr>\n",
       "      <th>device</th>\n",
       "      <th></th>\n",
       "    </tr>\n",
       "  </thead>\n",
       "  <tbody>\n",
       "    <tr>\n",
       "      <th>S1F01085</th>\n",
       "      <td>6</td>\n",
       "    </tr>\n",
       "    <tr>\n",
       "      <th>S1F013BB</th>\n",
       "      <td>6</td>\n",
       "    </tr>\n",
       "    <tr>\n",
       "      <th>S1F0166B</th>\n",
       "      <td>6</td>\n",
       "    </tr>\n",
       "    <tr>\n",
       "      <th>S1F01E6Y</th>\n",
       "      <td>48</td>\n",
       "    </tr>\n",
       "    <tr>\n",
       "      <th>S1F01JE0</th>\n",
       "      <td>6</td>\n",
       "    </tr>\n",
       "  </tbody>\n",
       "</table>\n",
       "</div>"
      ],
      "text/plain": [
       "          device_count\n",
       "device                \n",
       "S1F01085             6\n",
       "S1F013BB             6\n",
       "S1F0166B             6\n",
       "S1F01E6Y            48\n",
       "S1F01JE0             6"
      ]
     },
     "execution_count": 13,
     "metadata": {},
     "output_type": "execute_result"
    }
   ],
   "source": [
    "data_device_count.rename(columns={'device':'device_count'}, inplace = True) # rename to device count\n",
    "data_device_count.head()"
   ]
  },
  {
   "cell_type": "markdown",
   "metadata": {},
   "source": [
    "# 5. Groupby"
   ]
  },
  {
   "cell_type": "code",
   "execution_count": 14,
   "metadata": {},
   "outputs": [
    {
     "data": {
      "text/plain": [
       "date             304\n",
       "device          1168\n",
       "failure            2\n",
       "attribute1    123878\n",
       "attribute2       558\n",
       "attribute3        47\n",
       "attribute4       115\n",
       "attribute5        60\n",
       "attribute6     44838\n",
       "attribute7        28\n",
       "attribute9        65\n",
       "dtype: int64"
      ]
     },
     "execution_count": 14,
     "metadata": {},
     "output_type": "execute_result"
    }
   ],
   "source": [
    "data.nunique()"
   ]
  },
  {
   "cell_type": "markdown",
   "metadata": {},
   "source": [
    "# There are different ways to groupby. There are 124,494 rows, doing Groupby on date will bring down the dataset to 304. And doing groupby on device will bring down the dataset to 1,168 unique values. Groupby is done on the device, because doing groupby on date will make the dataset too small. Doing groupby on devices will consolidate the date into 1,168 rows which is a better number than date for training. If the dataset is done on device, then it can be analyzed how many times a device was used and not too much information is lost."
   ]
  },
  {
   "cell_type": "code",
   "execution_count": 15,
   "metadata": {
    "scrolled": true
   },
   "outputs": [
    {
     "data": {
      "text/html": [
       "<div>\n",
       "<style scoped>\n",
       "    .dataframe tbody tr th:only-of-type {\n",
       "        vertical-align: middle;\n",
       "    }\n",
       "\n",
       "    .dataframe tbody tr th {\n",
       "        vertical-align: top;\n",
       "    }\n",
       "\n",
       "    .dataframe thead th {\n",
       "        text-align: right;\n",
       "    }\n",
       "</style>\n",
       "<table border=\"1\" class=\"dataframe\">\n",
       "  <thead>\n",
       "    <tr style=\"text-align: right;\">\n",
       "      <th></th>\n",
       "      <th>date</th>\n",
       "      <th>failure</th>\n",
       "      <th>attribute1</th>\n",
       "      <th>attribute2</th>\n",
       "      <th>attribute3</th>\n",
       "      <th>attribute4</th>\n",
       "      <th>attribute5</th>\n",
       "      <th>attribute6</th>\n",
       "      <th>attribute7</th>\n",
       "      <th>attribute9</th>\n",
       "    </tr>\n",
       "    <tr>\n",
       "      <th>device</th>\n",
       "      <th></th>\n",
       "      <th></th>\n",
       "      <th></th>\n",
       "      <th></th>\n",
       "      <th></th>\n",
       "      <th></th>\n",
       "      <th></th>\n",
       "      <th></th>\n",
       "      <th></th>\n",
       "      <th></th>\n",
       "    </tr>\n",
       "  </thead>\n",
       "  <tbody>\n",
       "    <tr>\n",
       "      <th>S1F01085</th>\n",
       "      <td>2015-01-06</td>\n",
       "      <td>0</td>\n",
       "      <td>215630672</td>\n",
       "      <td>56</td>\n",
       "      <td>0</td>\n",
       "      <td>52</td>\n",
       "      <td>6</td>\n",
       "      <td>409404</td>\n",
       "      <td>0</td>\n",
       "      <td>7</td>\n",
       "    </tr>\n",
       "    <tr>\n",
       "      <th>S1F013BB</th>\n",
       "      <td>2015-05-11</td>\n",
       "      <td>0</td>\n",
       "      <td>243346080</td>\n",
       "      <td>0</td>\n",
       "      <td>0</td>\n",
       "      <td>0</td>\n",
       "      <td>5</td>\n",
       "      <td>689161</td>\n",
       "      <td>0</td>\n",
       "      <td>0</td>\n",
       "    </tr>\n",
       "    <tr>\n",
       "      <th>S1F0166B</th>\n",
       "      <td>2015-01-06</td>\n",
       "      <td>0</td>\n",
       "      <td>224339296</td>\n",
       "      <td>0</td>\n",
       "      <td>3</td>\n",
       "      <td>0</td>\n",
       "      <td>6</td>\n",
       "      <td>404786</td>\n",
       "      <td>0</td>\n",
       "      <td>0</td>\n",
       "    </tr>\n",
       "    <tr>\n",
       "      <th>S1F01E6Y</th>\n",
       "      <td>2015-02-17</td>\n",
       "      <td>0</td>\n",
       "      <td>240257968</td>\n",
       "      <td>0</td>\n",
       "      <td>0</td>\n",
       "      <td>0</td>\n",
       "      <td>12</td>\n",
       "      <td>259491</td>\n",
       "      <td>0</td>\n",
       "      <td>0</td>\n",
       "    </tr>\n",
       "    <tr>\n",
       "      <th>S1F01JE0</th>\n",
       "      <td>2015-01-06</td>\n",
       "      <td>0</td>\n",
       "      <td>235562856</td>\n",
       "      <td>0</td>\n",
       "      <td>0</td>\n",
       "      <td>0</td>\n",
       "      <td>6</td>\n",
       "      <td>412151</td>\n",
       "      <td>0</td>\n",
       "      <td>0</td>\n",
       "    </tr>\n",
       "  </tbody>\n",
       "</table>\n",
       "</div>"
      ],
      "text/plain": [
       "                date  failure  attribute1  attribute2  attribute3  attribute4  \\\n",
       "device                                                                          \n",
       "S1F01085  2015-01-06        0   215630672          56           0          52   \n",
       "S1F013BB  2015-05-11        0   243346080           0           0           0   \n",
       "S1F0166B  2015-01-06        0   224339296           0           3           0   \n",
       "S1F01E6Y  2015-02-17        0   240257968           0           0           0   \n",
       "S1F01JE0  2015-01-06        0   235562856           0           0           0   \n",
       "\n",
       "          attribute5  attribute6  attribute7  attribute9  \n",
       "device                                                    \n",
       "S1F01085           6      409404           0           7  \n",
       "S1F013BB           5      689161           0           0  \n",
       "S1F0166B           6      404786           0           0  \n",
       "S1F01E6Y          12      259491           0           0  \n",
       "S1F01JE0           6      412151           0           0  "
      ]
     },
     "execution_count": 15,
     "metadata": {},
     "output_type": "execute_result"
    }
   ],
   "source": [
    "new_data = data.groupby('device').max()\n",
    "new_data.head()"
   ]
  },
  {
   "cell_type": "markdown",
   "metadata": {
    "scrolled": true
   },
   "source": [
    "# DataFrame that was created earlier for device count will be joined together with the groupby DataFrame, so there is a total count that device was used. Count can also be done with groupby, but doing count through groupby will give the count for all the features, which will increase the number of features that are not needed, so a separate DataFrame of device count is created and then joined together with the groupby DataFrame."
   ]
  },
  {
   "cell_type": "code",
   "execution_count": 16,
   "metadata": {
    "scrolled": true
   },
   "outputs": [
    {
     "data": {
      "text/html": [
       "<div>\n",
       "<style scoped>\n",
       "    .dataframe tbody tr th:only-of-type {\n",
       "        vertical-align: middle;\n",
       "    }\n",
       "\n",
       "    .dataframe tbody tr th {\n",
       "        vertical-align: top;\n",
       "    }\n",
       "\n",
       "    .dataframe thead th {\n",
       "        text-align: right;\n",
       "    }\n",
       "</style>\n",
       "<table border=\"1\" class=\"dataframe\">\n",
       "  <thead>\n",
       "    <tr style=\"text-align: right;\">\n",
       "      <th></th>\n",
       "      <th>date</th>\n",
       "      <th>failure</th>\n",
       "      <th>attribute1</th>\n",
       "      <th>attribute2</th>\n",
       "      <th>attribute3</th>\n",
       "      <th>attribute4</th>\n",
       "      <th>attribute5</th>\n",
       "      <th>attribute6</th>\n",
       "      <th>attribute7</th>\n",
       "      <th>attribute9</th>\n",
       "      <th>device_count</th>\n",
       "    </tr>\n",
       "    <tr>\n",
       "      <th>device</th>\n",
       "      <th></th>\n",
       "      <th></th>\n",
       "      <th></th>\n",
       "      <th></th>\n",
       "      <th></th>\n",
       "      <th></th>\n",
       "      <th></th>\n",
       "      <th></th>\n",
       "      <th></th>\n",
       "      <th></th>\n",
       "      <th></th>\n",
       "    </tr>\n",
       "  </thead>\n",
       "  <tbody>\n",
       "    <tr>\n",
       "      <th>S1F01085</th>\n",
       "      <td>2015-01-06</td>\n",
       "      <td>0</td>\n",
       "      <td>215630672</td>\n",
       "      <td>56</td>\n",
       "      <td>0</td>\n",
       "      <td>52</td>\n",
       "      <td>6</td>\n",
       "      <td>409404</td>\n",
       "      <td>0</td>\n",
       "      <td>7</td>\n",
       "      <td>6</td>\n",
       "    </tr>\n",
       "    <tr>\n",
       "      <th>S1F013BB</th>\n",
       "      <td>2015-05-11</td>\n",
       "      <td>0</td>\n",
       "      <td>243346080</td>\n",
       "      <td>0</td>\n",
       "      <td>0</td>\n",
       "      <td>0</td>\n",
       "      <td>5</td>\n",
       "      <td>689161</td>\n",
       "      <td>0</td>\n",
       "      <td>0</td>\n",
       "      <td>6</td>\n",
       "    </tr>\n",
       "    <tr>\n",
       "      <th>S1F0166B</th>\n",
       "      <td>2015-01-06</td>\n",
       "      <td>0</td>\n",
       "      <td>224339296</td>\n",
       "      <td>0</td>\n",
       "      <td>3</td>\n",
       "      <td>0</td>\n",
       "      <td>6</td>\n",
       "      <td>404786</td>\n",
       "      <td>0</td>\n",
       "      <td>0</td>\n",
       "      <td>6</td>\n",
       "    </tr>\n",
       "    <tr>\n",
       "      <th>S1F01E6Y</th>\n",
       "      <td>2015-02-17</td>\n",
       "      <td>0</td>\n",
       "      <td>240257968</td>\n",
       "      <td>0</td>\n",
       "      <td>0</td>\n",
       "      <td>0</td>\n",
       "      <td>12</td>\n",
       "      <td>259491</td>\n",
       "      <td>0</td>\n",
       "      <td>0</td>\n",
       "      <td>48</td>\n",
       "    </tr>\n",
       "    <tr>\n",
       "      <th>S1F01JE0</th>\n",
       "      <td>2015-01-06</td>\n",
       "      <td>0</td>\n",
       "      <td>235562856</td>\n",
       "      <td>0</td>\n",
       "      <td>0</td>\n",
       "      <td>0</td>\n",
       "      <td>6</td>\n",
       "      <td>412151</td>\n",
       "      <td>0</td>\n",
       "      <td>0</td>\n",
       "      <td>6</td>\n",
       "    </tr>\n",
       "  </tbody>\n",
       "</table>\n",
       "</div>"
      ],
      "text/plain": [
       "                date  failure  attribute1  attribute2  attribute3  attribute4  \\\n",
       "device                                                                          \n",
       "S1F01085  2015-01-06        0   215630672          56           0          52   \n",
       "S1F013BB  2015-05-11        0   243346080           0           0           0   \n",
       "S1F0166B  2015-01-06        0   224339296           0           3           0   \n",
       "S1F01E6Y  2015-02-17        0   240257968           0           0           0   \n",
       "S1F01JE0  2015-01-06        0   235562856           0           0           0   \n",
       "\n",
       "          attribute5  attribute6  attribute7  attribute9  device_count  \n",
       "device                                                                  \n",
       "S1F01085           6      409404           0           7             6  \n",
       "S1F013BB           5      689161           0           0             6  \n",
       "S1F0166B           6      404786           0           0             6  \n",
       "S1F01E6Y          12      259491           0           0            48  \n",
       "S1F01JE0           6      412151           0           0             6  "
      ]
     },
     "execution_count": 16,
     "metadata": {},
     "output_type": "execute_result"
    }
   ],
   "source": [
    "new_data = new_data.join(data_device_count, on ='device')\n",
    "new_data.head()"
   ]
  },
  {
   "cell_type": "markdown",
   "metadata": {},
   "source": [
    "# 6. Date in this DataFrame appears as a string. Month is extracted from that date column. \n",
    "\n",
    "# Datetime module can be used to extract other features from the date column, but for this project lambda is used to simply extract month since all the dates are for the same year. "
   ]
  },
  {
   "cell_type": "code",
   "execution_count": 17,
   "metadata": {
    "scrolled": true
   },
   "outputs": [
    {
     "data": {
      "text/html": [
       "<div>\n",
       "<style scoped>\n",
       "    .dataframe tbody tr th:only-of-type {\n",
       "        vertical-align: middle;\n",
       "    }\n",
       "\n",
       "    .dataframe tbody tr th {\n",
       "        vertical-align: top;\n",
       "    }\n",
       "\n",
       "    .dataframe thead th {\n",
       "        text-align: right;\n",
       "    }\n",
       "</style>\n",
       "<table border=\"1\" class=\"dataframe\">\n",
       "  <thead>\n",
       "    <tr style=\"text-align: right;\">\n",
       "      <th></th>\n",
       "      <th>date</th>\n",
       "      <th>failure</th>\n",
       "      <th>attribute1</th>\n",
       "      <th>attribute2</th>\n",
       "      <th>attribute3</th>\n",
       "      <th>attribute4</th>\n",
       "      <th>attribute5</th>\n",
       "      <th>attribute6</th>\n",
       "      <th>attribute7</th>\n",
       "      <th>attribute9</th>\n",
       "      <th>device_count</th>\n",
       "    </tr>\n",
       "    <tr>\n",
       "      <th>device</th>\n",
       "      <th></th>\n",
       "      <th></th>\n",
       "      <th></th>\n",
       "      <th></th>\n",
       "      <th></th>\n",
       "      <th></th>\n",
       "      <th></th>\n",
       "      <th></th>\n",
       "      <th></th>\n",
       "      <th></th>\n",
       "      <th></th>\n",
       "    </tr>\n",
       "  </thead>\n",
       "  <tbody>\n",
       "    <tr>\n",
       "      <th>S1F01085</th>\n",
       "      <td>01</td>\n",
       "      <td>0</td>\n",
       "      <td>215630672</td>\n",
       "      <td>56</td>\n",
       "      <td>0</td>\n",
       "      <td>52</td>\n",
       "      <td>6</td>\n",
       "      <td>409404</td>\n",
       "      <td>0</td>\n",
       "      <td>7</td>\n",
       "      <td>6</td>\n",
       "    </tr>\n",
       "    <tr>\n",
       "      <th>S1F013BB</th>\n",
       "      <td>05</td>\n",
       "      <td>0</td>\n",
       "      <td>243346080</td>\n",
       "      <td>0</td>\n",
       "      <td>0</td>\n",
       "      <td>0</td>\n",
       "      <td>5</td>\n",
       "      <td>689161</td>\n",
       "      <td>0</td>\n",
       "      <td>0</td>\n",
       "      <td>6</td>\n",
       "    </tr>\n",
       "    <tr>\n",
       "      <th>S1F0166B</th>\n",
       "      <td>01</td>\n",
       "      <td>0</td>\n",
       "      <td>224339296</td>\n",
       "      <td>0</td>\n",
       "      <td>3</td>\n",
       "      <td>0</td>\n",
       "      <td>6</td>\n",
       "      <td>404786</td>\n",
       "      <td>0</td>\n",
       "      <td>0</td>\n",
       "      <td>6</td>\n",
       "    </tr>\n",
       "    <tr>\n",
       "      <th>S1F01E6Y</th>\n",
       "      <td>02</td>\n",
       "      <td>0</td>\n",
       "      <td>240257968</td>\n",
       "      <td>0</td>\n",
       "      <td>0</td>\n",
       "      <td>0</td>\n",
       "      <td>12</td>\n",
       "      <td>259491</td>\n",
       "      <td>0</td>\n",
       "      <td>0</td>\n",
       "      <td>48</td>\n",
       "    </tr>\n",
       "    <tr>\n",
       "      <th>S1F01JE0</th>\n",
       "      <td>01</td>\n",
       "      <td>0</td>\n",
       "      <td>235562856</td>\n",
       "      <td>0</td>\n",
       "      <td>0</td>\n",
       "      <td>0</td>\n",
       "      <td>6</td>\n",
       "      <td>412151</td>\n",
       "      <td>0</td>\n",
       "      <td>0</td>\n",
       "      <td>6</td>\n",
       "    </tr>\n",
       "  </tbody>\n",
       "</table>\n",
       "</div>"
      ],
      "text/plain": [
       "         date  failure  attribute1  attribute2  attribute3  attribute4  \\\n",
       "device                                                                   \n",
       "S1F01085   01        0   215630672          56           0          52   \n",
       "S1F013BB   05        0   243346080           0           0           0   \n",
       "S1F0166B   01        0   224339296           0           3           0   \n",
       "S1F01E6Y   02        0   240257968           0           0           0   \n",
       "S1F01JE0   01        0   235562856           0           0           0   \n",
       "\n",
       "          attribute5  attribute6  attribute7  attribute9  device_count  \n",
       "device                                                                  \n",
       "S1F01085           6      409404           0           7             6  \n",
       "S1F013BB           5      689161           0           0             6  \n",
       "S1F0166B           6      404786           0           0             6  \n",
       "S1F01E6Y          12      259491           0           0            48  \n",
       "S1F01JE0           6      412151           0           0             6  "
      ]
     },
     "execution_count": 17,
     "metadata": {},
     "output_type": "execute_result"
    }
   ],
   "source": [
    "new_data.date = list(map(lambda x:x[5:7], new_data.date ))\n",
    "new_data.head()"
   ]
  },
  {
   "cell_type": "markdown",
   "metadata": {},
   "source": [
    "# Date column is renamed to month."
   ]
  },
  {
   "cell_type": "code",
   "execution_count": 18,
   "metadata": {
    "scrolled": true
   },
   "outputs": [
    {
     "data": {
      "text/html": [
       "<div>\n",
       "<style scoped>\n",
       "    .dataframe tbody tr th:only-of-type {\n",
       "        vertical-align: middle;\n",
       "    }\n",
       "\n",
       "    .dataframe tbody tr th {\n",
       "        vertical-align: top;\n",
       "    }\n",
       "\n",
       "    .dataframe thead th {\n",
       "        text-align: right;\n",
       "    }\n",
       "</style>\n",
       "<table border=\"1\" class=\"dataframe\">\n",
       "  <thead>\n",
       "    <tr style=\"text-align: right;\">\n",
       "      <th></th>\n",
       "      <th>month</th>\n",
       "      <th>failure</th>\n",
       "      <th>attribute1</th>\n",
       "      <th>attribute2</th>\n",
       "      <th>attribute3</th>\n",
       "      <th>attribute4</th>\n",
       "      <th>attribute5</th>\n",
       "      <th>attribute6</th>\n",
       "      <th>attribute7</th>\n",
       "      <th>attribute9</th>\n",
       "      <th>device_count</th>\n",
       "    </tr>\n",
       "    <tr>\n",
       "      <th>device</th>\n",
       "      <th></th>\n",
       "      <th></th>\n",
       "      <th></th>\n",
       "      <th></th>\n",
       "      <th></th>\n",
       "      <th></th>\n",
       "      <th></th>\n",
       "      <th></th>\n",
       "      <th></th>\n",
       "      <th></th>\n",
       "      <th></th>\n",
       "    </tr>\n",
       "  </thead>\n",
       "  <tbody>\n",
       "    <tr>\n",
       "      <th>S1F01085</th>\n",
       "      <td>01</td>\n",
       "      <td>0</td>\n",
       "      <td>215630672</td>\n",
       "      <td>56</td>\n",
       "      <td>0</td>\n",
       "      <td>52</td>\n",
       "      <td>6</td>\n",
       "      <td>409404</td>\n",
       "      <td>0</td>\n",
       "      <td>7</td>\n",
       "      <td>6</td>\n",
       "    </tr>\n",
       "    <tr>\n",
       "      <th>S1F013BB</th>\n",
       "      <td>05</td>\n",
       "      <td>0</td>\n",
       "      <td>243346080</td>\n",
       "      <td>0</td>\n",
       "      <td>0</td>\n",
       "      <td>0</td>\n",
       "      <td>5</td>\n",
       "      <td>689161</td>\n",
       "      <td>0</td>\n",
       "      <td>0</td>\n",
       "      <td>6</td>\n",
       "    </tr>\n",
       "    <tr>\n",
       "      <th>S1F0166B</th>\n",
       "      <td>01</td>\n",
       "      <td>0</td>\n",
       "      <td>224339296</td>\n",
       "      <td>0</td>\n",
       "      <td>3</td>\n",
       "      <td>0</td>\n",
       "      <td>6</td>\n",
       "      <td>404786</td>\n",
       "      <td>0</td>\n",
       "      <td>0</td>\n",
       "      <td>6</td>\n",
       "    </tr>\n",
       "    <tr>\n",
       "      <th>S1F01E6Y</th>\n",
       "      <td>02</td>\n",
       "      <td>0</td>\n",
       "      <td>240257968</td>\n",
       "      <td>0</td>\n",
       "      <td>0</td>\n",
       "      <td>0</td>\n",
       "      <td>12</td>\n",
       "      <td>259491</td>\n",
       "      <td>0</td>\n",
       "      <td>0</td>\n",
       "      <td>48</td>\n",
       "    </tr>\n",
       "    <tr>\n",
       "      <th>S1F01JE0</th>\n",
       "      <td>01</td>\n",
       "      <td>0</td>\n",
       "      <td>235562856</td>\n",
       "      <td>0</td>\n",
       "      <td>0</td>\n",
       "      <td>0</td>\n",
       "      <td>6</td>\n",
       "      <td>412151</td>\n",
       "      <td>0</td>\n",
       "      <td>0</td>\n",
       "      <td>6</td>\n",
       "    </tr>\n",
       "  </tbody>\n",
       "</table>\n",
       "</div>"
      ],
      "text/plain": [
       "         month  failure  attribute1  attribute2  attribute3  attribute4  \\\n",
       "device                                                                    \n",
       "S1F01085    01        0   215630672          56           0          52   \n",
       "S1F013BB    05        0   243346080           0           0           0   \n",
       "S1F0166B    01        0   224339296           0           3           0   \n",
       "S1F01E6Y    02        0   240257968           0           0           0   \n",
       "S1F01JE0    01        0   235562856           0           0           0   \n",
       "\n",
       "          attribute5  attribute6  attribute7  attribute9  device_count  \n",
       "device                                                                  \n",
       "S1F01085           6      409404           0           7             6  \n",
       "S1F013BB           5      689161           0           0             6  \n",
       "S1F0166B           6      404786           0           0             6  \n",
       "S1F01E6Y          12      259491           0           0            48  \n",
       "S1F01JE0           6      412151           0           0             6  "
      ]
     },
     "execution_count": 18,
     "metadata": {},
     "output_type": "execute_result"
    }
   ],
   "source": [
    "new_data.rename(columns={'date':'month'}, inplace = True)\n",
    "new_data.head()"
   ]
  },
  {
   "cell_type": "code",
   "execution_count": 19,
   "metadata": {},
   "outputs": [
    {
     "data": {
      "text/plain": [
       "304"
      ]
     },
     "execution_count": 19,
     "metadata": {},
     "output_type": "execute_result"
    }
   ],
   "source": [
    "new_data.device_count.max()"
   ]
  },
  {
   "cell_type": "markdown",
   "metadata": {},
   "source": [
    "# Below are all the devices that were used 304 times, so these devices were not only used in the month of November, but these devices were also used in other months."
   ]
  },
  {
   "cell_type": "code",
   "execution_count": 20,
   "metadata": {
    "scrolled": true
   },
   "outputs": [
    {
     "data": {
      "text/html": [
       "<div>\n",
       "<style scoped>\n",
       "    .dataframe tbody tr th:only-of-type {\n",
       "        vertical-align: middle;\n",
       "    }\n",
       "\n",
       "    .dataframe tbody tr th {\n",
       "        vertical-align: top;\n",
       "    }\n",
       "\n",
       "    .dataframe thead th {\n",
       "        text-align: right;\n",
       "    }\n",
       "</style>\n",
       "<table border=\"1\" class=\"dataframe\">\n",
       "  <thead>\n",
       "    <tr style=\"text-align: right;\">\n",
       "      <th></th>\n",
       "      <th>month</th>\n",
       "      <th>failure</th>\n",
       "      <th>attribute1</th>\n",
       "      <th>attribute2</th>\n",
       "      <th>attribute3</th>\n",
       "      <th>attribute4</th>\n",
       "      <th>attribute5</th>\n",
       "      <th>attribute6</th>\n",
       "      <th>attribute7</th>\n",
       "      <th>attribute9</th>\n",
       "      <th>device_count</th>\n",
       "    </tr>\n",
       "    <tr>\n",
       "      <th>device</th>\n",
       "      <th></th>\n",
       "      <th></th>\n",
       "      <th></th>\n",
       "      <th></th>\n",
       "      <th></th>\n",
       "      <th></th>\n",
       "      <th></th>\n",
       "      <th></th>\n",
       "      <th></th>\n",
       "      <th></th>\n",
       "      <th></th>\n",
       "    </tr>\n",
       "  </thead>\n",
       "  <tbody>\n",
       "    <tr>\n",
       "      <th>S1F0E9EP</th>\n",
       "      <td>11</td>\n",
       "      <td>0</td>\n",
       "      <td>242890792</td>\n",
       "      <td>0</td>\n",
       "      <td>0</td>\n",
       "      <td>12</td>\n",
       "      <td>11</td>\n",
       "      <td>353337</td>\n",
       "      <td>0</td>\n",
       "      <td>0</td>\n",
       "      <td>304</td>\n",
       "    </tr>\n",
       "    <tr>\n",
       "      <th>S1F0EGMT</th>\n",
       "      <td>11</td>\n",
       "      <td>0</td>\n",
       "      <td>244129416</td>\n",
       "      <td>0</td>\n",
       "      <td>0</td>\n",
       "      <td>13</td>\n",
       "      <td>11</td>\n",
       "      <td>347165</td>\n",
       "      <td>32</td>\n",
       "      <td>0</td>\n",
       "      <td>304</td>\n",
       "    </tr>\n",
       "    <tr>\n",
       "      <th>S1F0FGBQ</th>\n",
       "      <td>11</td>\n",
       "      <td>0</td>\n",
       "      <td>243458728</td>\n",
       "      <td>0</td>\n",
       "      <td>0</td>\n",
       "      <td>0</td>\n",
       "      <td>12</td>\n",
       "      <td>309988</td>\n",
       "      <td>0</td>\n",
       "      <td>0</td>\n",
       "      <td>304</td>\n",
       "    </tr>\n",
       "    <tr>\n",
       "      <th>S1F0FP0C</th>\n",
       "      <td>11</td>\n",
       "      <td>0</td>\n",
       "      <td>243651936</td>\n",
       "      <td>0</td>\n",
       "      <td>0</td>\n",
       "      <td>0</td>\n",
       "      <td>12</td>\n",
       "      <td>356892</td>\n",
       "      <td>0</td>\n",
       "      <td>0</td>\n",
       "      <td>304</td>\n",
       "    </tr>\n",
       "    <tr>\n",
       "      <th>S1F0GCED</th>\n",
       "      <td>11</td>\n",
       "      <td>0</td>\n",
       "      <td>240061656</td>\n",
       "      <td>64792</td>\n",
       "      <td>0</td>\n",
       "      <td>7</td>\n",
       "      <td>11</td>\n",
       "      <td>341541</td>\n",
       "      <td>0</td>\n",
       "      <td>0</td>\n",
       "      <td>304</td>\n",
       "    </tr>\n",
       "  </tbody>\n",
       "</table>\n",
       "</div>"
      ],
      "text/plain": [
       "         month  failure  attribute1  attribute2  attribute3  attribute4  \\\n",
       "device                                                                    \n",
       "S1F0E9EP    11        0   242890792           0           0          12   \n",
       "S1F0EGMT    11        0   244129416           0           0          13   \n",
       "S1F0FGBQ    11        0   243458728           0           0           0   \n",
       "S1F0FP0C    11        0   243651936           0           0           0   \n",
       "S1F0GCED    11        0   240061656       64792           0           7   \n",
       "\n",
       "          attribute5  attribute6  attribute7  attribute9  device_count  \n",
       "device                                                                  \n",
       "S1F0E9EP          11      353337           0           0           304  \n",
       "S1F0EGMT          11      347165          32           0           304  \n",
       "S1F0FGBQ          12      309988           0           0           304  \n",
       "S1F0FP0C          12      356892           0           0           304  \n",
       "S1F0GCED          11      341541           0           0           304  "
      ]
     },
     "execution_count": 20,
     "metadata": {},
     "output_type": "execute_result"
    }
   ],
   "source": [
    "new_data[new_data.device_count == 304].head()"
   ]
  },
  {
   "cell_type": "code",
   "execution_count": 21,
   "metadata": {},
   "outputs": [
    {
     "data": {
      "text/plain": [
       "month             11\n",
       "failure            2\n",
       "attribute1      1168\n",
       "attribute2       118\n",
       "attribute3        44\n",
       "attribute4        67\n",
       "attribute5        58\n",
       "attribute6      1134\n",
       "attribute7        23\n",
       "attribute9        63\n",
       "device_count     139\n",
       "dtype: int64"
      ]
     },
     "execution_count": 21,
     "metadata": {},
     "output_type": "execute_result"
    }
   ],
   "source": [
    "new_data.nunique()"
   ]
  },
  {
   "cell_type": "markdown",
   "metadata": {},
   "source": [
    "# 7. Visualizing failure"
   ]
  },
  {
   "cell_type": "code",
   "execution_count": 22,
   "metadata": {},
   "outputs": [
    {
     "data": {
      "text/plain": [
       "<matplotlib.axes._subplots.AxesSubplot at 0x1f01bfd3ac8>"
      ]
     },
     "execution_count": 22,
     "metadata": {},
     "output_type": "execute_result"
    },
    {
     "data": {
      "image/png": "[encoded data removed]",
      "text/plain": [
       "<matplotlib.figure.Figure at 0x1f01937eda0>"
      ]
     },
     "metadata": {},
     "output_type": "display_data"
    }
   ],
   "source": [
    "new_data.failure.hist()"
   ]
  },
  {
   "cell_type": "code",
   "execution_count": 23,
   "metadata": {},
   "outputs": [
    {
     "name": "stdout",
     "output_type": "stream",
     "text": [
      "1062\n",
      "106\n"
     ]
    }
   ],
   "source": [
    "print(new_data.failure[new_data.failure == 0].count())\n",
    "print(new_data.failure[new_data.failure == 1].count())"
   ]
  },
  {
   "cell_type": "markdown",
   "metadata": {},
   "source": [
    "# The above histogram and value counts above show that more devices have a value of 0 and fewer devices have a value of 1. What that means is that more devices never failed and only a handful of devices failed. This dataset is highly imbalanced because 90% of the devices have a value of 0 and only 10% have a value of 1. This will make it hard to train a good model because on a dataset like this model will get trained to mostly predict 0, which is that the device never fails and the model will have a strong bias towards 0.\n",
    "\n",
    "# One of the sampling techniques (Random Under-sampling, Random Over-sampling, SMOTE (Synthetic Minority Over-sampling Technique), or ADASYN (Adaptive Synthetic Sampling Approach for Imbalanced Learning)) can be used to balance the data, so 0 and 1 have the same ratio in the dataset. Only one sampling technique has to be used to balance the imbalanced dataset. But the aforementioned and other sampling techniques can be used to compare results and performance. Under and Over-sampling can be used to create a hybrid sampling technique."
   ]
  },
  {
   "cell_type": "markdown",
   "metadata": {},
   "source": [
    "# 8. Creating a model - All the features are assigned to x and failure the target variable is assigned to y."
   ]
  },
  {
   "cell_type": "code",
   "execution_count": 24,
   "metadata": {},
   "outputs": [],
   "source": [
    "y = new_data['failure']\n",
    "del new_data['failure']\n",
    "x = new_data"
   ]
  },
  {
   "cell_type": "markdown",
   "metadata": {},
   "source": [
    "# 9. Train Test Split"
   ]
  },
  {
   "cell_type": "code",
   "execution_count": 25,
   "metadata": {},
   "outputs": [],
   "source": [
    "from sklearn.model_selection import train_test_split as tts\n",
    "x_train, x_test, y_train, y_test = tts(x, y, test_size = 0.2,random_state = 0)"
   ]
  },
  {
   "cell_type": "markdown",
   "metadata": {},
   "source": [
    "# Testing dataset is not over-sampled, because once the model has been trained on the balanced dataset, it will be evaluated on testing dataset which has imbalanced dataset, doing so allows to examine how well the trained model will do on an imbalanced dataset."
   ]
  },
  {
   "cell_type": "code",
   "execution_count": 26,
   "metadata": {},
   "outputs": [
    {
     "name": "stdout",
     "output_type": "stream",
     "text": [
      "20\n",
      "214\n"
     ]
    }
   ],
   "source": [
    "print(y_test[y_test==1].count())\n",
    "print(y_test[y_test==0].count())"
   ]
  },
  {
   "cell_type": "markdown",
   "metadata": {},
   "source": [
    "# 10. Using Random Under-sampling to balance the imbalanced dataset."
   ]
  },
  {
   "cell_type": "code",
   "execution_count": 27,
   "metadata": {},
   "outputs": [],
   "source": [
    "from imblearn.under_sampling import RandomUnderSampler\n",
    "rus = RandomUnderSampler(random_state=0)\n",
    "x_resampled_train, y_resampled_train = rus.fit_sample(x_train, y_train)"
   ]
  },
  {
   "cell_type": "markdown",
   "metadata": {},
   "source": [
    "# Training dataset below has equal representation both for 0 and 1 after under-sampling."
   ]
  },
  {
   "cell_type": "code",
   "execution_count": 28,
   "metadata": {},
   "outputs": [
    {
     "name": "stdout",
     "output_type": "stream",
     "text": [
      "86\n",
      "86\n"
     ]
    }
   ],
   "source": [
    "print((y_resampled_train==0).sum())\n",
    "print((y_resampled_train==1).sum())"
   ]
  },
  {
   "cell_type": "markdown",
   "metadata": {},
   "source": [
    "# Below scatterplots show what the data points look like before and after under-sampling. Red dots represent failed devices and green dots represent un-failed or working devices.\n",
    "# Plot 1 shows what the original data looks like which has more green dots representing working/un-failed devices and the data is highly imbalanced because there are fewer red dots (failed devices). \n",
    "\n",
    "# Pot 2 after under-sampling, shows fewer green dots (working/un-failed devices), making green dots same as red dots which represent failed devices. Throughout the process, the count for red dots/ failed devices does not change and stays the same."
   ]
  },
  {
   "cell_type": "code",
   "execution_count": 29,
   "metadata": {
    "scrolled": true
   },
   "outputs": [],
   "source": [
    "x_1 = x[y==1]\n",
    "x_0 = x[y==0]\n",
    "x_1_res = x_resampled_train[y_resampled_train == 1]\n",
    "x_0_res = x_resampled_train[y_resampled_train == 0]"
   ]
  },
  {
   "cell_type": "code",
   "execution_count": 30,
   "metadata": {},
   "outputs": [
    {
     "data": {
      "text/plain": [
       "<matplotlib.legend.Legend at 0x1f01ae54ef0>"
      ]
     },
     "execution_count": 30,
     "metadata": {},
     "output_type": "execute_result"
    },
    {
     "data": {
      "image/png": "[encoded data removed]",
      "text/plain": [
       "<matplotlib.figure.Figure at 0x1f01ad8c940>"
      ]
     },
     "metadata": {},
     "output_type": "display_data"
    },
    {
     "data": {
      "image/png": "[encoded data removed]",
      "text/plain": [
       "<matplotlib.figure.Figure at 0x1f01ae0fa90>"
      ]
     },
     "metadata": {},
     "output_type": "display_data"
    }
   ],
   "source": [
    "#plt.figure(figsize=(12,8))\n",
    "plt.figure(figsize=(16,6)).suptitle(\"Plot 1-Before Random Under-sampling\", fontsize=20)\n",
    "plt.subplot(1,2,1).scatter((x_1).iloc[:,6].values, (x_1).iloc[:,5].values, color=\"red\")\n",
    "plt.legend(('Failed Devices',), scatterpoints =1,fontsize=14)\n",
    "plt.subplot(1,2,2).scatter((x_0).iloc[:,6].values, (x_0).iloc[:,5].values, color=\"lime\")\n",
    "plt.legend(('Working Devices',), scatterpoints =3,fontsize=14)\n",
    "\n",
    "plt.figure(figsize=(16,6)).suptitle(\"Plot 2-After Random Under-sampling\", fontsize=20)\n",
    "plt.subplot(1,2,1).scatter((x_1_res)[:,6], (x_1_res)[:,5], color=\"red\")\n",
    "plt.legend(('Failed Devices',), scatterpoints =1,fontsize=14)\n",
    "plt.subplot(1,2,2).scatter((x_0_res)[:,6], (x_0_res)[:,5], color=\"lime\")\n",
    "plt.legend(('Working Devices',), scatterpoints =1,fontsize=14)"
   ]
  },
  {
   "cell_type": "markdown",
   "metadata": {},
   "source": [
    "# 11. Import Algorithm"
   ]
  },
  {
   "cell_type": "code",
   "execution_count": 31,
   "metadata": {},
   "outputs": [],
   "source": [
    "from sklearn.tree import DecisionTreeClassifier\n",
    "from sklearn.ensemble import RandomForestClassifier\n",
    "from sklearn.ensemble import GradientBoostingClassifier\n",
    "from sklearn.linear_model import LogisticRegression\n",
    "from sklearn.neighbors import KNeighborsClassifier\n",
    "\n",
    "from sklearn.ensemble import VotingClassifier"
   ]
  },
  {
   "cell_type": "code",
   "execution_count": 32,
   "metadata": {},
   "outputs": [],
   "source": [
    "dt = DecisionTreeClassifier()\n",
    "rf = RandomForestClassifier()\n",
    "gb = GradientBoostingClassifier()\n",
    "lr = LogisticRegression()\n",
    "kn = KNeighborsClassifier(n_neighbors = 7)\n",
    "\n",
    "vote = VotingClassifier(estimators = [('d1', dt),('r1', rf),('g1',gb)])"
   ]
  },
  {
   "cell_type": "markdown",
   "metadata": {},
   "source": [
    "# 12. Fit the data"
   ]
  },
  {
   "cell_type": "code",
   "execution_count": 33,
   "metadata": {},
   "outputs": [],
   "source": [
    "dtr = dt.fit(x_resampled_train, y_resampled_train)\n",
    "rfr = rf.fit(x_resampled_train, y_resampled_train)\n",
    "gbr = gb.fit(x_resampled_train, y_resampled_train)\n",
    "lrr = lr.fit(x_resampled_train, y_resampled_train)\n",
    "knn = kn.fit(x_resampled_train, y_resampled_train)\n",
    "\n",
    "votec = vote.fit(x_resampled_train, y_resampled_train)"
   ]
  },
  {
   "cell_type": "markdown",
   "metadata": {},
   "source": [
    "# 13. Print Matrices"
   ]
  },
  {
   "cell_type": "code",
   "execution_count": 34,
   "metadata": {},
   "outputs": [
    {
     "name": "stdout",
     "output_type": "stream",
     "text": [
      "Decision Tree training score 1.0\n",
      "Random Forest training score 0.9941860465116279\n",
      "Gradient Boosting training score 1.0\n",
      "Logistic Regression training score 0.5\n",
      "KNeighbors training score 0.6976744186046512\n",
      "Voting Classifier training score 1.0\n"
     ]
    },
    {
     "name": "stderr",
     "output_type": "stream",
     "text": [
      "C:\\Users\\maniq\\AppData\\Local\\Continuum\\anaconda3\\lib\\site-packages\\sklearn\\preprocessing\\label.py:151: DeprecationWarning: The truth value of an empty array is ambiguous. Returning False, but in future this will result in an error. Use `array.size > 0` to check that an array is not empty.\n",
      "  if diff:\n"
     ]
    }
   ],
   "source": [
    "print(\"Decision Tree training score\", dtr.score(x_resampled_train, y_resampled_train))\n",
    "print(\"Random Forest training score\", rfr.score(x_resampled_train, y_resampled_train))\n",
    "print(\"Gradient Boosting training score\", gbr.score(x_resampled_train, y_resampled_train))\n",
    "print(\"Logistic Regression training score\", lrr.score(x_resampled_train, y_resampled_train))\n",
    "print(\"KNeighbors training score\", knn.score(x_resampled_train, y_resampled_train))\n",
    "\n",
    "print(\"Voting Classifier training score\", votec.score(x_resampled_train, y_resampled_train))"
   ]
  },
  {
   "cell_type": "code",
   "execution_count": 35,
   "metadata": {},
   "outputs": [
    {
     "name": "stdout",
     "output_type": "stream",
     "text": [
      "Decision Tree test score 0.8461538461538461\n",
      "Random Forest test score 0.8632478632478633\n",
      "Gradient Boosting test score 0.9273504273504274\n",
      "Logistic Regression test score 0.7435897435897436\n",
      "KNeighbors test score 0.5726495726495726\n",
      "Voting Classifier test score 0.9102564102564102\n"
     ]
    },
    {
     "name": "stderr",
     "output_type": "stream",
     "text": [
      "C:\\Users\\maniq\\AppData\\Local\\Continuum\\anaconda3\\lib\\site-packages\\sklearn\\preprocessing\\label.py:151: DeprecationWarning: The truth value of an empty array is ambiguous. Returning False, but in future this will result in an error. Use `array.size > 0` to check that an array is not empty.\n",
      "  if diff:\n"
     ]
    }
   ],
   "source": [
    "print(\"Decision Tree test score\", dtr.score(x_test, y_test))\n",
    "print(\"Random Forest test score\", rfr.score(x_test, y_test))\n",
    "print(\"Gradient Boosting test score\", gbr.score(x_test, y_test))\n",
    "print(\"Logistic Regression test score\", lrr.score(x_test, y_test))\n",
    "print(\"KNeighbors test score\", knn.score(x_test, y_test))\n",
    "\n",
    "print(\"Voting Classifier test score\", votec.score(x_test, y_test))"
   ]
  },
  {
   "cell_type": "markdown",
   "metadata": {},
   "source": [
    "# y_test shown below is the original testing data set that was not over-sampled and has imbalanced classes for 0 and 1. There are 214 un-failed devices and only 20 failed devices."
   ]
  },
  {
   "cell_type": "code",
   "execution_count": 36,
   "metadata": {},
   "outputs": [
    {
     "name": "stdout",
     "output_type": "stream",
     "text": [
      "20\n",
      "214\n"
     ]
    }
   ],
   "source": [
    "print(y_test[y_test==1].count())\n",
    "print(y_test[y_test==0].count())"
   ]
  },
  {
   "cell_type": "markdown",
   "metadata": {},
   "source": [
    "# 14. Accuracy score will examine how well the model would do if the classes are imbalanced"
   ]
  },
  {
   "cell_type": "code",
   "execution_count": 37,
   "metadata": {},
   "outputs": [],
   "source": [
    "from sklearn.metrics import accuracy_score"
   ]
  },
  {
   "cell_type": "code",
   "execution_count": 38,
   "metadata": {},
   "outputs": [
    {
     "name": "stderr",
     "output_type": "stream",
     "text": [
      "C:\\Users\\maniq\\AppData\\Local\\Continuum\\anaconda3\\lib\\site-packages\\sklearn\\preprocessing\\label.py:151: DeprecationWarning: The truth value of an empty array is ambiguous. Returning False, but in future this will result in an error. Use `array.size > 0` to check that an array is not empty.\n",
      "  if diff:\n"
     ]
    }
   ],
   "source": [
    "d_predict = dt.predict(x_test)\n",
    "r_predict = rf.predict(x_test)\n",
    "g_predict = gb.predict(x_test)\n",
    "l_predict = lr.predict(x_test)\n",
    "k_predict = kn.predict(x_test)\n",
    "\n",
    "v_predict = vote.predict(x_test)"
   ]
  },
  {
   "cell_type": "code",
   "execution_count": 39,
   "metadata": {},
   "outputs": [
    {
     "name": "stdout",
     "output_type": "stream",
     "text": [
      "Decision tree: 0.8461538461538461\n",
      "Random Forest: 0.8632478632478633\n",
      "Gradient Boosting: 0.9273504273504274\n",
      "Logistic Regression: 0.7435897435897436\n",
      "KNeighbors: 0.5726495726495726\n",
      "Voting Classifier: 0.9102564102564102\n"
     ]
    }
   ],
   "source": [
    "print(\"Decision tree:\", accuracy_score(y_test, d_predict))\n",
    "print(\"Random Forest:\", accuracy_score(y_test, r_predict))\n",
    "print(\"Gradient Boosting:\", accuracy_score(y_test, g_predict))\n",
    "print(\"Logistic Regression:\", accuracy_score(y_test, l_predict))\n",
    "print(\"KNeighbors:\", accuracy_score(y_test, k_predict))\n",
    "\n",
    "print(\"Voting Classifier:\", accuracy_score(y_test, v_predict))"
   ]
  },
  {
   "cell_type": "markdown",
   "metadata": {},
   "source": [
    "# 15. Precision and Recall - Precision and recall is related to confusion matrix(type I and type II error).\n",
    "# Precision is relevant items divided by total items. Precision calculates how many times was something correctly labelled or mislabelled.\n",
    "# Recall is the relevant items divided by relevant. Recall calculates how many times was the correctly labelled item missed."
   ]
  },
  {
   "cell_type": "code",
   "execution_count": 40,
   "metadata": {},
   "outputs": [],
   "source": [
    "from sklearn.metrics import precision_score\n",
    "from sklearn.metrics import recall_score"
   ]
  },
  {
   "cell_type": "code",
   "execution_count": 41,
   "metadata": {},
   "outputs": [
    {
     "name": "stdout",
     "output_type": "stream",
     "text": [
      "Precision for Decision tree: 0.3181818181818182\n",
      "Recall for Decision tree: 0.7\n",
      "\n",
      "Precision for Random Forest: 0.3695652173913043\n",
      "Recall for Random Forest: 0.85\n",
      "\n",
      "Precision for Gradient Boosting: 0.5428571428571428\n",
      "Recall for Gradient Boosting: 0.95\n",
      "\n",
      "Precision for Logistic Regression: 0.15517241379310345\n",
      "Recall for Logistic Regression: 0.45\n",
      "\n",
      "Precision for KNeighbors: 0.1\n",
      "Recall for KNeighbors: 0.5\n",
      "\n",
      "Precision for Voting Classifier: 0.4857142857142857\n",
      "Recall for Voting Classifier: 0.85\n"
     ]
    }
   ],
   "source": [
    "print(\"Precision for Decision tree:\", precision_score(y_test, d_predict))\n",
    "print(\"Recall for Decision tree:\", recall_score(y_test, d_predict))\n",
    "print(\"\\nPrecision for Random Forest:\", precision_score(y_test, r_predict))\n",
    "print(\"Recall for Random Forest:\", recall_score(y_test, r_predict))\n",
    "print(\"\\nPrecision for Gradient Boosting:\", precision_score(y_test, g_predict))\n",
    "print(\"Recall for Gradient Boosting:\", recall_score(y_test, g_predict))\n",
    "print(\"\\nPrecision for Logistic Regression:\", precision_score(y_test, l_predict))\n",
    "print(\"Recall for Logistic Regression:\", recall_score(y_test, l_predict))\n",
    "print(\"\\nPrecision for KNeighbors:\", precision_score(y_test, k_predict))\n",
    "print(\"Recall for KNeighbors:\", recall_score(y_test, k_predict))\n",
    "\n",
    "print(\"\\nPrecision for Voting Classifier:\", precision_score(y_test, v_predict))\n",
    "print(\"Recall for Voting Classifier:\", recall_score(y_test, v_predict))"
   ]
  },
  {
   "cell_type": "markdown",
   "metadata": {},
   "source": [
    "# Precision doesn't look at how many times was the correctly labelled item missed. And recall disregards how many items were incorrectly labelled, which is why a model can have high precision, but low recall, or low recall and high precision. Depending on the domain, business objective and project precision might be preferred over recall and vice versa. But if the goal is to make the best model and there is no emphasis on precision and recall, F1 score can be used. F1 score can be calculated by the following equation: 2*(product of precision and recall) divided by (sum of precision and recall)."
   ]
  },
  {
   "cell_type": "markdown",
   "metadata": {},
   "source": [
    "# Classification report - F1 score can be manually calculated, but classification report can get the F1 score without having to calculate it manually. Classification report also shows precision, recall, which can replace the precision and recall scores calculated above.\n",
    "\n",
    "# Precision, recall and accuracy score for Logistic Regression and KNeighbors are low which is why they are not used for classification report."
   ]
  },
  {
   "cell_type": "code",
   "execution_count": 42,
   "metadata": {},
   "outputs": [
    {
     "name": "stdout",
     "output_type": "stream",
     "text": [
      "Decision Tree:\n",
      "              precision    recall  f1-score   support\n",
      "\n",
      "          0       0.97      0.86      0.91       214\n",
      "          1       0.32      0.70      0.44        20\n",
      "\n",
      "avg / total       0.91      0.85      0.87       234\n",
      "\n",
      "\n",
      "Random Forest:\n",
      "              precision    recall  f1-score   support\n",
      "\n",
      "          0       0.98      0.86      0.92       214\n",
      "          1       0.37      0.85      0.52        20\n",
      "\n",
      "avg / total       0.93      0.86      0.89       234\n",
      "\n",
      "\n",
      "Gradient Boostingn:\n",
      "              precision    recall  f1-score   support\n",
      "\n",
      "          0       0.99      0.93      0.96       214\n",
      "          1       0.54      0.95      0.69        20\n",
      "\n",
      "avg / total       0.96      0.93      0.94       234\n",
      "\n",
      "\n",
      "Voting Classifier:\n",
      "              precision    recall  f1-score   support\n",
      "\n",
      "          0       0.98      0.92      0.95       214\n",
      "          1       0.49      0.85      0.62        20\n",
      "\n",
      "avg / total       0.94      0.91      0.92       234\n",
      "\n"
     ]
    }
   ],
   "source": [
    "from sklearn.metrics import classification_report\n",
    "\n",
    "print(\"Decision Tree:\\n\",classification_report(y_test, d_predict))\n",
    "print(\"\\nRandom Forest:\\n\",classification_report(y_test, r_predict))\n",
    "print(\"\\nGradient Boostingn:\\n\",classification_report(y_test, g_predict))\n",
    "print(\"\\nVoting Classifier:\\n\",classification_report(y_test, v_predict))"
   ]
  },
  {
   "cell_type": "markdown",
   "metadata": {},
   "source": [
    "# Cross Validation scores are not computed for under-sampling because under-sampling was only done on the training dataset and running cross validation will show higher f1 scores which are misleading. And x_test and y_test cannot be used in cross validation because there is imbalanced dataset, that will give lower f1 score."
   ]
  },
  {
   "cell_type": "markdown",
   "metadata": {},
   "source": [
    "# 16. Feature Importance"
   ]
  },
  {
   "cell_type": "code",
   "execution_count": 43,
   "metadata": {},
   "outputs": [
    {
     "name": "stdout",
     "output_type": "stream",
     "text": [
      "device_count    0.289805\n",
      "attribute4      0.236262\n",
      "month           0.179008\n",
      "attribute1      0.118596\n",
      "attribute6      0.096507\n",
      "attribute7      0.048044\n",
      "attribute3      0.021012\n",
      "attribute9      0.010767\n",
      "attribute5      0.000000\n",
      "attribute2      0.000000\n",
      "dtype: float64\n"
     ]
    },
    {
     "data": {
      "text/plain": [
       "Text(0.5,1,'Feature Importance')"
      ]
     },
     "execution_count": 43,
     "metadata": {},
     "output_type": "execute_result"
    },
    {
     "data": {
      "image/png": "[encoded data removed]",
      "text/plain": [
       "<matplotlib.figure.Figure at 0x1f01b54dcf8>"
      ]
     },
     "metadata": {},
     "output_type": "display_data"
    }
   ],
   "source": [
    "feature_importances_dt = pd.Series(dt.feature_importances_, index = x.columns).sort_values (ascending = False)\n",
    "print(feature_importances_dt)\n",
    "\n",
    "plt.figure(figsize=(12,8))\n",
    "feature_importances_dt.sort_values(ascending = True).tail(20).plot(kind='barh')\n",
    "plt.title(\"Feature Importance\")"
   ]
  },
  {
   "cell_type": "code",
   "execution_count": 44,
   "metadata": {},
   "outputs": [
    {
     "name": "stdout",
     "output_type": "stream",
     "text": [
      "device_count    0.210038\n",
      "attribute4      0.180009\n",
      "attribute1      0.127075\n",
      "attribute6      0.104134\n",
      "attribute2      0.103705\n",
      "month           0.085337\n",
      "attribute7      0.071732\n",
      "attribute5      0.066656\n",
      "attribute9      0.033307\n",
      "attribute3      0.018007\n",
      "dtype: float64\n"
     ]
    },
    {
     "data": {
      "text/plain": [
       "Text(0.5,1,'Feature Importance')"
      ]
     },
     "execution_count": 44,
     "metadata": {},
     "output_type": "execute_result"
    },
    {
     "data": {
      "image/png": "[encoded data removed]",
      "text/plain": [
       "<matplotlib.figure.Figure at 0x1f019091940>"
      ]
     },
     "metadata": {},
     "output_type": "display_data"
    }
   ],
   "source": [
    "feature_importances_rf = pd.Series(rf.feature_importances_, index = x.columns).sort_values (ascending = False)\n",
    "print(feature_importances_rf)\n",
    "\n",
    "plt.figure(figsize=(12,8))\n",
    "feature_importances_rf.sort_values(ascending = True).tail(20).plot(kind='barh')\n",
    "plt.title(\"Feature Importance\")"
   ]
  },
  {
   "cell_type": "code",
   "execution_count": 45,
   "metadata": {},
   "outputs": [
    {
     "name": "stdout",
     "output_type": "stream",
     "text": [
      "device_count    0.242984\n",
      "attribute6      0.149992\n",
      "month           0.148185\n",
      "attribute1      0.099412\n",
      "attribute2      0.095131\n",
      "attribute4      0.083043\n",
      "attribute5      0.078505\n",
      "attribute7      0.052170\n",
      "attribute9      0.030851\n",
      "attribute3      0.019727\n",
      "dtype: float64\n"
     ]
    },
    {
     "data": {
      "text/plain": [
       "Text(0.5,1,'Feature Importance')"
      ]
     },
     "execution_count": 45,
     "metadata": {},
     "output_type": "execute_result"
    },
    {
     "data": {
      "image/png": "[encoded data removed]",
      "text/plain": [
       "<matplotlib.figure.Figure at 0x1f01b12e828>"
      ]
     },
     "metadata": {},
     "output_type": "display_data"
    }
   ],
   "source": [
    "feature_importances_gb = pd.Series(gb.feature_importances_, index = x.columns).sort_values (ascending = False)\n",
    "print(feature_importances_gb)\n",
    "\n",
    "plt.figure(figsize=(12,8))\n",
    "feature_importances_gb.sort_values(ascending = True).tail(20).plot(kind='barh')\n",
    "plt.title(\"Feature Importance\")"
   ]
  },
  {
   "cell_type": "markdown",
   "metadata": {},
   "source": [
    "## Concluding words:	In 8 out of 12 models, device count, a feature engineered attribute was the most important at predicting device failure. That means a device that is being used the most has higher likelihood of failing. Decision Tree and Gradient Boosting mostly always have the same top 3 features for all of the sampling techniques. Random Forest does not consistently reproduce the same important features and that’s because all sampling Techniques have some randomness in them.  \n",
    "## Random Under-sampling randomly reduces the data points of the majority class.  \n",
    "## Random Over-Sampling randomly creates copies of the existing data points and increases weights. Not all data points get a copy and data points randomly get different weight. \n",
    "## SMOTE (Synthetic Minority Over-sampling Technique) multiplies the distance of two points with a random number between 0 and 1 to create synthetic data points. \n",
    "## ADASYN (Adaptive Synthetic Sampling Approach for Imbalanced Learning) is built on the foundation of SMOTE to create synthetic data points, but it puts more weight on the minority data points, so data points that are minority in minority class can have more weight during training. \n",
    "## Because of the randomness that all of the sampling techniques have, different data points are created each time and when the model is trained on different data points, it produces different important features for Random Forest. Gradient Boosting and Decision Tree are consistent at producing same top three important features. However, other features for Gradient Boosting and Decision Tree also change and that’s because of the same randomness in the data points that change what the model learns each time. \n",
    "## All of the samplings were done after train test split, so sampling was only done on the training dataset. Sampling techniques and trained models were then evaluated on the original testing dataset which has imbalanced class. \n",
    "## In order to determine which sampling technique performed better, f1-scores of only minority class (failed devices) are evaluated because it’s easy for models to classify majority class (working/failed devices) that have 90% representation. Random Under-sampling have low f1 scores for minority class when compared with over-sampling. All 4 models for under-sampling have f1-scores that are below 0.70 for minority class (1.0 is the highest possible). On a real world imbalanced dataset, this random under-sampling would likely get an f1 score of about 0.70, unless hyper-parameter optimization is done, which could improve the score by 5 to 10 percent.  \n",
    "## All of the over-sampling techniques performed better at identifying minority class because models were trained on a bigger dataset and there is no loss of information, so it performs better on the imbalanced testing dataset. Of all the models, Gradient Boosting was able to get the highest f1-score of 0.79, 0.85, and 0.82 with random over-sampling, SMOTE, and ADASYN respectively for minority class. Voting classifier was used with random forest, gradient boosting, and decision tree and weights were assigned to them, which produced the f1-score of 0.72, 0.80, and 0.77 for random over-sampling, SMOTE, and ADASYN respectively. Logistic Regression and KNeighbors were used initially, but because of the low scores, they weren’t used any further. Instead of using 5 neighbors, 3 neighbors were used to oversample data points for SMOTE and ADASYN, which improved f1-scores. Other under-sampling techniques would have to be used to determine if over-sampling is better than under-sampling. \n",
    "## Ensembling, bagging and boosting can further improve the scores and make the model better. Parameter tuning with grid search can further improve the model so minority class can be classified with higher precision and recall. And then feature importance can be run to examine if the models can reproduce important feature consistently. There are sampling techniques that combine under and over-sampling. SMOTEENN and SMOTETomek, where SMOTE is used to over-sample data points. ENN (Edited Nearest Neighbors) and Tomek link are used for under-sampling. SMOTEENN and SMOTETomek also produced results that are comparable with SMOTE. However, I have not done enough research on these combined sampling techniques to properly compare them with over and under-sampling. \n",
    "## Some ideas that can make the model better would be to turn some of the attributes and features into object or categorical. Especially features that have less than 100 unique values because it’s likely that those features are truly categorical. Attributes that have unique values in hundreds and thousands can be kept as integer. Once some attributes have been turned into object or categorical, interactions can be created by multiplying all object features with integer features and performance can be compared with these models."
   ]
  },
  {
   "cell_type": "markdown",
   "metadata": {},
   "source": [
    "## [Random Over-sampling](https://github.com/mohammadbutt/5th-Project-Predicting-Device-Failure/blob/master/Predicting%20Device%20Failure-Random%20Over%20Sampling.ipynb)\n",
    "## [SMOTE (Synthetic Minority Over-sampling Technique)](https://github.com/mohammadbutt/5th-Project-Predicting-Device-Failure/blob/master/Predicting%20Device%20Failure-SMOTE.ipynb)\n",
    "## [ADASYN (Adaptive Synthetic Sampling Approach for Imbalanced Learning)](https://github.com/mohammadbutt/5th-Project-Predicting-Device-Failure/blob/master/Predicting%20Device%20Failure-ADASYN.ipynb)"
   ]
  }
 ],
 "metadata": {
  "kernelspec": {
   "display_name": "Python 3",
   "language": "python",
   "name": "python3"
  },
  "language_info": {
   "codemirror_mode": {
    "name": "ipython",
    "version": 3
   },
   "file_extension": ".py",
   "mimetype": "text/x-python",
   "name": "python",
   "nbconvert_exporter": "python",
   "pygments_lexer": "ipython3",
   "version": "3.6.4"
  }
 },
 "nbformat": 4,
 "nbformat_minor": 2
}
